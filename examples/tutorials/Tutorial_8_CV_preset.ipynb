{
 "cells": [
  {
   "cell_type": "markdown",
   "metadata": {},
   "source": [
    "# Tutorial 8: CV preset"
   ]
  },
  {
   "attachments": {},
   "cell_type": "markdown",
   "metadata": {},
   "source": [
    "<img src=\"../../imgs/lightautoml_logo_color.png\" alt=\"LightAutoML logo\" style=\"width:100%;\"/>"
   ]
  },
  {
   "attachments": {},
   "cell_type": "markdown",
   "metadata": {},
   "source": [
    "Official LightAutoML github repository is [here](https://github.com/sb-ai-lab/LightAutoML)"
   ]
  },
  {
   "cell_type": "markdown",
   "metadata": {},
   "source": [
    "\n",
    "In this tutorial we will look how to apply LightAutoML to computer vision tasks. \n",
    "\n",
    "Basically, the corresponding modules are designed to solve problems where the image is more of an auxiliary value (complement the rest of the data from the table) than for solving full-fledged CV problems. In LightAutoML working with images goes essentially through tabular data, that is, not the images themselves are used, but the paths for them. They should be written in a separate column, which needs to specify the corresponding ```'path'``` role. The target variable and optionally other features are also specified in the table. To make predictions, numerical features are extracted from images, such as color histograms (RGB or HSV) and image embeddings based on EfficientNet (with the option to select a version and use [AdvProp weights](https://arxiv.org/abs/1911.09665)), and then standard machine learning models available in LightAutoML (as in conventional tabular presets) can be applied to them. By default, linear regression with L2 regularization and CatBoost are used. Linear regression is trained on image embeddings, CatBoost is trained on histogram features, and weighted blending is finally applied to their predictions."
   ]
  },
  {
   "cell_type": "markdown",
   "metadata": {},
   "source": [
    "As an example, let's consider the [Paddy Doctor competition](https://www.kaggle.com/competitions/paddy-disease-classification/data?select=train.csv) - the task of multi-class classification, determining the type of paddy leaf disease based on photographs and other numerical features. Data is a set of images and a table, each row of which corresponds to a specific image with a specification of the path to it."
   ]
  },
  {
   "cell_type": "markdown",
   "metadata": {},
   "source": [
    "## Importing libraries and preparing data"
   ]
  },
  {
   "cell_type": "markdown",
   "metadata": {},
   "source": [
    "\n",
    "We will use the data from Kaggle. You can download the dataset [from this link](https://www.kaggle.com/competitions/paddy-disease-classification/data?select=train.csv) and import it in any convenient way. For example, we download the data using [kaggle API](https://www.kaggle.com/general/74235) and install some corresponding requirements. You can run next cell for loading data and installing packages in this way:"
   ]
  },
  {
   "cell_type": "code",
   "execution_count": null,
   "metadata": {},
   "outputs": [],
   "source": [
    "##Kaggle functionality for loading data; Note that you have to use your kaggle API token (see the link above):\n",
    "# !pip install opendatasets\n",
    "# !pip install -q kaggle\n",
    "# !pip install --upgrade --force-reinstall --no-deps kaggle\n",
    "# !mkdir ~/.kaggle\n",
    "# !ls ~/.kaggle\n",
    "# import os.path\n",
    "# assert os.path.isfile(\"kaggle.json\")\n",
    "# !cp kaggle.json ~/.kaggle/\n",
    "# !chmod 600 ~/.kaggle/kaggle.json\n",
    "# !kaggle competitions download -c paddy-disease-classification\n",
    "\n",
    "# #Unpack data:\n",
    "# !mkdir paddy-disease\n",
    "# !unzip paddy-disease-classification.zip -d paddy-disease\n",
    "\n",
    "# #Install LightAutoML, Pandas and torch EfficientNet:\n",
    "# !pip install -U lightautoml[cv] #[cv] is for installing CV tasks functionality\n"
   ]
  },
  {
   "cell_type": "markdown",
   "metadata": {
    "papermill": {
     "duration": 0.066681,
     "end_time": "2021-06-22T20:10:53.090975",
     "exception": false,
     "start_time": "2021-06-22T20:10:53.024294",
     "status": "completed"
    },
    "tags": []
   },
   "source": [
    "\n",
    "\n",
    "Then we will import the libraries we use in this kernel:\n",
    "- Standard python libraries for timing, working with OS etc.\n",
    "- Essential python DS libraries like numpy, pandas, scikit-learn and torch (the last we will use in the next cell)\n",
    "- LightAutoML modules: `TabularCVAutoML` preset for AutoML model creation and Task class to setup what kind of ML problem we solve (binary/multiclass classification or regression)"
   ]
  },
  {
   "cell_type": "code",
   "execution_count": 1,
   "metadata": {},
   "outputs": [],
   "source": [
    "import os\n",
    "os.environ[\"CUDA_DEVICE_ORDER\"]=\"PCI_BUS_ID\"   # see issue #152\n",
    "os.environ[\"CUDA_VISIBLE_DEVICES\"]=\"0\""
   ]
  },
  {
   "cell_type": "code",
   "execution_count": 2,
   "metadata": {
    "execution": {
     "iopub.execute_input": "2022-07-05T14:51:46.798354Z",
     "iopub.status.busy": "2022-07-05T14:51:46.797984Z",
     "iopub.status.idle": "2022-07-05T14:51:49.606148Z",
     "shell.execute_reply": "2022-07-05T14:51:49.605139Z",
     "shell.execute_reply.started": "2022-07-05T14:51:46.798321Z"
    },
    "papermill": {
     "duration": 8.32949,
     "end_time": "2021-06-22T20:11:01.487788",
     "exception": false,
     "start_time": "2021-06-22T20:10:53.158298",
     "status": "completed"
    },
    "tags": []
   },
   "outputs": [
    {
     "name": "stdout",
     "output_type": "stream",
     "text": [
      "'nlp' extra dependecy package 'gensim' isn't installed. Look at README.md in repo 'LightAutoML' for installation instructions.\n",
      "'nlp' extra dependecy package 'nltk' isn't installed. Look at README.md in repo 'LightAutoML' for installation instructions.\n",
      "'nlp' extra dependecy package 'transformers' isn't installed. Look at README.md in repo 'LightAutoML' for installation instructions.\n",
      "'nlp' extra dependecy package 'gensim' isn't installed. Look at README.md in repo 'LightAutoML' for installation instructions.\n",
      "'nlp' extra dependecy package 'nltk' isn't installed. Look at README.md in repo 'LightAutoML' for installation instructions.\n",
      "'nlp' extra dependecy package 'transformers' isn't installed. Look at README.md in repo 'LightAutoML' for installation instructions.\n"
     ]
    },
    {
     "name": "stderr",
     "output_type": "stream",
     "text": [
      "/home/dvladimirvasilyev/LightAutoML/lightautoml/ml_algo/dl_model.py:41: UserWarning: 'transformers' - package isn't installed\n",
      "  warnings.warn(\"'transformers' - package isn't installed\")\n",
      "/home/dvladimirvasilyev/LightAutoML/lightautoml/text/nn_model.py:22: UserWarning: 'transformers' - package isn't installed\n",
      "  warnings.warn(\"'transformers' - package isn't installed\")\n",
      "/home/dvladimirvasilyev/LightAutoML/lightautoml/text/dl_transformers.py:25: UserWarning: 'transformers' - package isn't installed\n",
      "  warnings.warn(\"'transformers' - package isn't installed\")\n"
     ]
    }
   ],
   "source": [
    "# Standard python libraries\n",
    "import os\n",
    "import time\n",
    "\n",
    "# Essential DS libraries\n",
    "import numpy as np\n",
    "import pandas as pd\n",
    "from sklearn.metrics import f1_score, accuracy_score, confusion_matrix\n",
    "from sklearn.model_selection import train_test_split\n",
    "import torch\n",
    "import seaborn as sns\n",
    "import matplotlib.pyplot as plt\n",
    "\n",
    "# LightAutoML presets, task and report generation\n",
    "from lightautoml.automl.presets.image_presets import TabularCVAutoML\n",
    "from lightautoml.tasks import Task"
   ]
  },
  {
   "cell_type": "markdown",
   "metadata": {
    "papermill": {
     "duration": 0.086481,
     "end_time": "2021-06-22T20:11:01.927314",
     "exception": false,
     "start_time": "2021-06-22T20:11:01.840833",
     "status": "completed"
    },
    "tags": []
   },
   "source": [
    "\n",
    "For better reproducibility fix numpy random seed with max number of threads for Torch (which usually try to use all the threads on server):"
   ]
  },
  {
   "cell_type": "code",
   "execution_count": 3,
   "metadata": {
    "execution": {
     "iopub.execute_input": "2022-07-05T14:51:52.670042Z",
     "iopub.status.busy": "2022-07-05T14:51:52.669639Z",
     "iopub.status.idle": "2022-07-05T14:51:52.694336Z",
     "shell.execute_reply": "2022-07-05T14:51:52.693519Z",
     "shell.execute_reply.started": "2022-07-05T14:51:52.670013Z"
    },
    "papermill": {
     "duration": 0.087268,
     "end_time": "2021-06-22T20:11:02.092497",
     "exception": false,
     "start_time": "2021-06-22T20:11:02.005229",
     "status": "completed"
    },
    "tags": []
   },
   "outputs": [],
   "source": [
    "np.random.seed(42)\n",
    "torch.set_num_threads(2)"
   ]
  },
  {
   "cell_type": "markdown",
   "metadata": {
    "papermill": {
     "duration": 0.072033,
     "end_time": "2021-06-22T20:11:02.238196",
     "exception": false,
     "start_time": "2021-06-22T20:11:02.166163",
     "status": "completed"
    },
    "tags": []
   },
   "source": [
    "\n",
    "Let's check the data we have:"
   ]
  },
  {
   "cell_type": "code",
   "execution_count": 4,
   "metadata": {
    "execution": {
     "iopub.execute_input": "2022-07-05T14:52:17.214594Z",
     "iopub.status.busy": "2022-07-05T14:52:17.213593Z",
     "iopub.status.idle": "2022-07-05T14:52:17.219652Z",
     "shell.execute_reply": "2022-07-05T14:52:17.218659Z",
     "shell.execute_reply.started": "2022-07-05T14:52:17.214546Z"
    }
   },
   "outputs": [],
   "source": [
    "INPUT_DIR = './paddy-disease/'"
   ]
  },
  {
   "cell_type": "code",
   "execution_count": 5,
   "metadata": {
    "execution": {
     "iopub.execute_input": "2022-07-05T14:52:24.806286Z",
     "iopub.status.busy": "2022-07-05T14:52:24.805673Z",
     "iopub.status.idle": "2022-07-05T14:52:24.852628Z",
     "shell.execute_reply": "2022-07-05T14:52:24.851665Z",
     "shell.execute_reply.started": "2022-07-05T14:52:24.806252Z"
    },
    "papermill": {
     "duration": 12.710747,
     "end_time": "2021-06-22T20:11:15.01836",
     "exception": false,
     "start_time": "2021-06-22T20:11:02.307613",
     "status": "completed"
    },
    "scrolled": true,
    "tags": []
   },
   "outputs": [
    {
     "name": "stdout",
     "output_type": "stream",
     "text": [
      "(10407, 4)\n"
     ]
    },
    {
     "data": {
      "text/html": [
       "<div>\n",
       "<style scoped>\n",
       "    .dataframe tbody tr th:only-of-type {\n",
       "        vertical-align: middle;\n",
       "    }\n",
       "\n",
       "    .dataframe tbody tr th {\n",
       "        vertical-align: top;\n",
       "    }\n",
       "\n",
       "    .dataframe thead th {\n",
       "        text-align: right;\n",
       "    }\n",
       "</style>\n",
       "<table border=\"1\" class=\"dataframe\">\n",
       "  <thead>\n",
       "    <tr style=\"text-align: right;\">\n",
       "      <th></th>\n",
       "      <th>image_id</th>\n",
       "      <th>label</th>\n",
       "      <th>variety</th>\n",
       "      <th>age</th>\n",
       "    </tr>\n",
       "  </thead>\n",
       "  <tbody>\n",
       "    <tr>\n",
       "      <th>0</th>\n",
       "      <td>100330.jpg</td>\n",
       "      <td>bacterial_leaf_blight</td>\n",
       "      <td>ADT45</td>\n",
       "      <td>45</td>\n",
       "    </tr>\n",
       "    <tr>\n",
       "      <th>1</th>\n",
       "      <td>100365.jpg</td>\n",
       "      <td>bacterial_leaf_blight</td>\n",
       "      <td>ADT45</td>\n",
       "      <td>45</td>\n",
       "    </tr>\n",
       "    <tr>\n",
       "      <th>2</th>\n",
       "      <td>100382.jpg</td>\n",
       "      <td>bacterial_leaf_blight</td>\n",
       "      <td>ADT45</td>\n",
       "      <td>45</td>\n",
       "    </tr>\n",
       "    <tr>\n",
       "      <th>3</th>\n",
       "      <td>100632.jpg</td>\n",
       "      <td>bacterial_leaf_blight</td>\n",
       "      <td>ADT45</td>\n",
       "      <td>45</td>\n",
       "    </tr>\n",
       "    <tr>\n",
       "      <th>4</th>\n",
       "      <td>101918.jpg</td>\n",
       "      <td>bacterial_leaf_blight</td>\n",
       "      <td>ADT45</td>\n",
       "      <td>45</td>\n",
       "    </tr>\n",
       "  </tbody>\n",
       "</table>\n",
       "</div>"
      ],
      "text/plain": [
       "     image_id                  label variety  age\n",
       "0  100330.jpg  bacterial_leaf_blight   ADT45   45\n",
       "1  100365.jpg  bacterial_leaf_blight   ADT45   45\n",
       "2  100382.jpg  bacterial_leaf_blight   ADT45   45\n",
       "3  100632.jpg  bacterial_leaf_blight   ADT45   45\n",
       "4  101918.jpg  bacterial_leaf_blight   ADT45   45"
      ]
     },
     "execution_count": 5,
     "metadata": {},
     "output_type": "execute_result"
    }
   ],
   "source": [
    "train_data = pd.read_csv(INPUT_DIR + 'train.csv')\n",
    "print(train_data.shape)\n",
    "train_data.head()"
   ]
  },
  {
   "cell_type": "code",
   "execution_count": 6,
   "metadata": {
    "execution": {
     "iopub.execute_input": "2022-07-05T14:55:47.853158Z",
     "iopub.status.busy": "2022-07-05T14:55:47.852592Z",
     "iopub.status.idle": "2022-07-05T14:55:47.871645Z",
     "shell.execute_reply": "2022-07-05T14:55:47.870788Z",
     "shell.execute_reply.started": "2022-07-05T14:55:47.853116Z"
    }
   },
   "outputs": [
    {
     "data": {
      "text/plain": [
       "normal                      1764\n",
       "blast                       1738\n",
       "hispa                       1594\n",
       "dead_heart                  1442\n",
       "tungro                      1088\n",
       "brown_spot                   965\n",
       "downy_mildew                 620\n",
       "bacterial_leaf_blight        479\n",
       "bacterial_leaf_streak        380\n",
       "bacterial_panicle_blight     337\n",
       "Name: label, dtype: int64"
      ]
     },
     "execution_count": 6,
     "metadata": {},
     "output_type": "execute_result"
    }
   ],
   "source": [
    "train_data['label'].value_counts()"
   ]
  },
  {
   "cell_type": "code",
   "execution_count": 7,
   "metadata": {
    "execution": {
     "iopub.execute_input": "2022-07-05T14:53:50.520585Z",
     "iopub.status.busy": "2022-07-05T14:53:50.520132Z",
     "iopub.status.idle": "2022-07-05T14:53:50.538089Z",
     "shell.execute_reply": "2022-07-05T14:53:50.536992Z",
     "shell.execute_reply.started": "2022-07-05T14:53:50.520543Z"
    }
   },
   "outputs": [
    {
     "data": {
      "text/plain": [
       "ADT45             6992\n",
       "KarnatakaPonni     988\n",
       "Ponni              657\n",
       "AtchayaPonni       461\n",
       "Zonal              399\n",
       "AndraPonni         377\n",
       "Onthanel           351\n",
       "IR20               114\n",
       "RR                  36\n",
       "Surya               32\n",
       "Name: variety, dtype: int64"
      ]
     },
     "execution_count": 7,
     "metadata": {},
     "output_type": "execute_result"
    }
   ],
   "source": [
    "train_data['variety'].value_counts()"
   ]
  },
  {
   "cell_type": "code",
   "execution_count": 8,
   "metadata": {
    "execution": {
     "iopub.execute_input": "2022-07-05T14:54:18.244667Z",
     "iopub.status.busy": "2022-07-05T14:54:18.244319Z",
     "iopub.status.idle": "2022-07-05T14:54:18.252756Z",
     "shell.execute_reply": "2022-07-05T14:54:18.251740Z",
     "shell.execute_reply.started": "2022-07-05T14:54:18.244636Z"
    }
   },
   "outputs": [
    {
     "data": {
      "text/plain": [
       "70    3077\n",
       "60    1660\n",
       "50    1066\n",
       "75     866\n",
       "65     774\n",
       "55     563\n",
       "72     552\n",
       "45     505\n",
       "67     415\n",
       "68     253\n",
       "80     225\n",
       "57     213\n",
       "47     112\n",
       "77      42\n",
       "73      38\n",
       "66      36\n",
       "62       5\n",
       "82       5\n",
       "Name: age, dtype: int64"
      ]
     },
     "execution_count": 8,
     "metadata": {},
     "output_type": "execute_result"
    }
   ],
   "source": [
    "train_data['age'].value_counts()"
   ]
  },
  {
   "cell_type": "code",
   "execution_count": 9,
   "metadata": {
    "execution": {
     "iopub.execute_input": "2022-07-05T14:55:17.360329Z",
     "iopub.status.busy": "2022-07-05T14:55:17.359745Z",
     "iopub.status.idle": "2022-07-05T14:55:17.385144Z",
     "shell.execute_reply": "2022-07-05T14:55:17.384108Z",
     "shell.execute_reply.started": "2022-07-05T14:55:17.360295Z"
    }
   },
   "outputs": [
    {
     "name": "stdout",
     "output_type": "stream",
     "text": [
      "(3469, 2)\n"
     ]
    },
    {
     "data": {
      "text/html": [
       "<div>\n",
       "<style scoped>\n",
       "    .dataframe tbody tr th:only-of-type {\n",
       "        vertical-align: middle;\n",
       "    }\n",
       "\n",
       "    .dataframe tbody tr th {\n",
       "        vertical-align: top;\n",
       "    }\n",
       "\n",
       "    .dataframe thead th {\n",
       "        text-align: right;\n",
       "    }\n",
       "</style>\n",
       "<table border=\"1\" class=\"dataframe\">\n",
       "  <thead>\n",
       "    <tr style=\"text-align: right;\">\n",
       "      <th></th>\n",
       "      <th>image_id</th>\n",
       "      <th>label</th>\n",
       "    </tr>\n",
       "  </thead>\n",
       "  <tbody>\n",
       "    <tr>\n",
       "      <th>0</th>\n",
       "      <td>200001.jpg</td>\n",
       "      <td>NaN</td>\n",
       "    </tr>\n",
       "    <tr>\n",
       "      <th>1</th>\n",
       "      <td>200002.jpg</td>\n",
       "      <td>NaN</td>\n",
       "    </tr>\n",
       "    <tr>\n",
       "      <th>2</th>\n",
       "      <td>200003.jpg</td>\n",
       "      <td>NaN</td>\n",
       "    </tr>\n",
       "    <tr>\n",
       "      <th>3</th>\n",
       "      <td>200004.jpg</td>\n",
       "      <td>NaN</td>\n",
       "    </tr>\n",
       "    <tr>\n",
       "      <th>4</th>\n",
       "      <td>200005.jpg</td>\n",
       "      <td>NaN</td>\n",
       "    </tr>\n",
       "  </tbody>\n",
       "</table>\n",
       "</div>"
      ],
      "text/plain": [
       "     image_id  label\n",
       "0  200001.jpg    NaN\n",
       "1  200002.jpg    NaN\n",
       "2  200003.jpg    NaN\n",
       "3  200004.jpg    NaN\n",
       "4  200005.jpg    NaN"
      ]
     },
     "execution_count": 9,
     "metadata": {},
     "output_type": "execute_result"
    }
   ],
   "source": [
    "submission = pd.read_csv(INPUT_DIR + 'sample_submission.csv')\n",
    "print(submission.shape)\n",
    "submission.head()"
   ]
  },
  {
   "cell_type": "markdown",
   "metadata": {},
   "source": [
    "Add a column with the full path to the images:"
   ]
  },
  {
   "cell_type": "code",
   "execution_count": 10,
   "metadata": {
    "execution": {
     "iopub.execute_input": "2022-07-05T15:02:33.216599Z",
     "iopub.status.busy": "2022-07-05T15:02:33.216246Z",
     "iopub.status.idle": "2022-07-05T15:02:33.235251Z",
     "shell.execute_reply": "2022-07-05T15:02:33.234204Z",
     "shell.execute_reply.started": "2022-07-05T15:02:33.216568Z"
    }
   },
   "outputs": [
    {
     "name": "stdout",
     "output_type": "stream",
     "text": [
      "CPU times: user 4.89 ms, sys: 485 µs, total: 5.37 ms\n",
      "Wall time: 5.14 ms\n"
     ]
    },
    {
     "data": {
      "text/html": [
       "<div>\n",
       "<style scoped>\n",
       "    .dataframe tbody tr th:only-of-type {\n",
       "        vertical-align: middle;\n",
       "    }\n",
       "\n",
       "    .dataframe tbody tr th {\n",
       "        vertical-align: top;\n",
       "    }\n",
       "\n",
       "    .dataframe thead th {\n",
       "        text-align: right;\n",
       "    }\n",
       "</style>\n",
       "<table border=\"1\" class=\"dataframe\">\n",
       "  <thead>\n",
       "    <tr style=\"text-align: right;\">\n",
       "      <th></th>\n",
       "      <th>image_id</th>\n",
       "      <th>label</th>\n",
       "      <th>variety</th>\n",
       "      <th>age</th>\n",
       "      <th>path</th>\n",
       "    </tr>\n",
       "  </thead>\n",
       "  <tbody>\n",
       "    <tr>\n",
       "      <th>0</th>\n",
       "      <td>100330.jpg</td>\n",
       "      <td>bacterial_leaf_blight</td>\n",
       "      <td>ADT45</td>\n",
       "      <td>45</td>\n",
       "      <td>./paddy-disease/train_images/bacterial_leaf_bl...</td>\n",
       "    </tr>\n",
       "    <tr>\n",
       "      <th>1</th>\n",
       "      <td>100365.jpg</td>\n",
       "      <td>bacterial_leaf_blight</td>\n",
       "      <td>ADT45</td>\n",
       "      <td>45</td>\n",
       "      <td>./paddy-disease/train_images/bacterial_leaf_bl...</td>\n",
       "    </tr>\n",
       "    <tr>\n",
       "      <th>2</th>\n",
       "      <td>100382.jpg</td>\n",
       "      <td>bacterial_leaf_blight</td>\n",
       "      <td>ADT45</td>\n",
       "      <td>45</td>\n",
       "      <td>./paddy-disease/train_images/bacterial_leaf_bl...</td>\n",
       "    </tr>\n",
       "    <tr>\n",
       "      <th>3</th>\n",
       "      <td>100632.jpg</td>\n",
       "      <td>bacterial_leaf_blight</td>\n",
       "      <td>ADT45</td>\n",
       "      <td>45</td>\n",
       "      <td>./paddy-disease/train_images/bacterial_leaf_bl...</td>\n",
       "    </tr>\n",
       "    <tr>\n",
       "      <th>4</th>\n",
       "      <td>101918.jpg</td>\n",
       "      <td>bacterial_leaf_blight</td>\n",
       "      <td>ADT45</td>\n",
       "      <td>45</td>\n",
       "      <td>./paddy-disease/train_images/bacterial_leaf_bl...</td>\n",
       "    </tr>\n",
       "  </tbody>\n",
       "</table>\n",
       "</div>"
      ],
      "text/plain": [
       "     image_id                  label variety  age  \\\n",
       "0  100330.jpg  bacterial_leaf_blight   ADT45   45   \n",
       "1  100365.jpg  bacterial_leaf_blight   ADT45   45   \n",
       "2  100382.jpg  bacterial_leaf_blight   ADT45   45   \n",
       "3  100632.jpg  bacterial_leaf_blight   ADT45   45   \n",
       "4  101918.jpg  bacterial_leaf_blight   ADT45   45   \n",
       "\n",
       "                                                path  \n",
       "0  ./paddy-disease/train_images/bacterial_leaf_bl...  \n",
       "1  ./paddy-disease/train_images/bacterial_leaf_bl...  \n",
       "2  ./paddy-disease/train_images/bacterial_leaf_bl...  \n",
       "3  ./paddy-disease/train_images/bacterial_leaf_bl...  \n",
       "4  ./paddy-disease/train_images/bacterial_leaf_bl...  "
      ]
     },
     "execution_count": 10,
     "metadata": {},
     "output_type": "execute_result"
    }
   ],
   "source": [
    "%%time\n",
    "\n",
    "train_data['path'] = INPUT_DIR + 'train_images/' + train_data['label'] + '/' + train_data['image_id']\n",
    "train_data.head()"
   ]
  },
  {
   "cell_type": "code",
   "execution_count": 11,
   "metadata": {
    "execution": {
     "iopub.execute_input": "2022-07-05T15:01:50.176305Z",
     "iopub.status.busy": "2022-07-05T15:01:50.175957Z",
     "iopub.status.idle": "2022-07-05T15:01:50.192594Z",
     "shell.execute_reply": "2022-07-05T15:01:50.191651Z",
     "shell.execute_reply.started": "2022-07-05T15:01:50.176276Z"
    }
   },
   "outputs": [
    {
     "data": {
      "text/html": [
       "<div>\n",
       "<style scoped>\n",
       "    .dataframe tbody tr th:only-of-type {\n",
       "        vertical-align: middle;\n",
       "    }\n",
       "\n",
       "    .dataframe tbody tr th {\n",
       "        vertical-align: top;\n",
       "    }\n",
       "\n",
       "    .dataframe thead th {\n",
       "        text-align: right;\n",
       "    }\n",
       "</style>\n",
       "<table border=\"1\" class=\"dataframe\">\n",
       "  <thead>\n",
       "    <tr style=\"text-align: right;\">\n",
       "      <th></th>\n",
       "      <th>image_id</th>\n",
       "      <th>label</th>\n",
       "      <th>path</th>\n",
       "    </tr>\n",
       "  </thead>\n",
       "  <tbody>\n",
       "    <tr>\n",
       "      <th>0</th>\n",
       "      <td>200001.jpg</td>\n",
       "      <td>NaN</td>\n",
       "      <td>./paddy-disease/test_images/200001.jpg</td>\n",
       "    </tr>\n",
       "    <tr>\n",
       "      <th>1</th>\n",
       "      <td>200002.jpg</td>\n",
       "      <td>NaN</td>\n",
       "      <td>./paddy-disease/test_images/200002.jpg</td>\n",
       "    </tr>\n",
       "    <tr>\n",
       "      <th>2</th>\n",
       "      <td>200003.jpg</td>\n",
       "      <td>NaN</td>\n",
       "      <td>./paddy-disease/test_images/200003.jpg</td>\n",
       "    </tr>\n",
       "    <tr>\n",
       "      <th>3</th>\n",
       "      <td>200004.jpg</td>\n",
       "      <td>NaN</td>\n",
       "      <td>./paddy-disease/test_images/200004.jpg</td>\n",
       "    </tr>\n",
       "    <tr>\n",
       "      <th>4</th>\n",
       "      <td>200005.jpg</td>\n",
       "      <td>NaN</td>\n",
       "      <td>./paddy-disease/test_images/200005.jpg</td>\n",
       "    </tr>\n",
       "  </tbody>\n",
       "</table>\n",
       "</div>"
      ],
      "text/plain": [
       "     image_id  label                                    path\n",
       "0  200001.jpg    NaN  ./paddy-disease/test_images/200001.jpg\n",
       "1  200002.jpg    NaN  ./paddy-disease/test_images/200002.jpg\n",
       "2  200003.jpg    NaN  ./paddy-disease/test_images/200003.jpg\n",
       "3  200004.jpg    NaN  ./paddy-disease/test_images/200004.jpg\n",
       "4  200005.jpg    NaN  ./paddy-disease/test_images/200005.jpg"
      ]
     },
     "execution_count": 11,
     "metadata": {},
     "output_type": "execute_result"
    }
   ],
   "source": [
    "submission['path'] = INPUT_DIR + 'test_images/' + submission['image_id']\n",
    "submission.head()"
   ]
  },
  {
   "cell_type": "markdown",
   "metadata": {},
   "source": [
    "Let's expand the training data with augmentations: random rotations and flips:"
   ]
  },
  {
   "cell_type": "code",
   "execution_count": null,
   "metadata": {},
   "outputs": [],
   "source": [
    "os.mkdir('./paddy-disease/modified_train')"
   ]
  },
  {
   "cell_type": "code",
   "execution_count": 12,
   "metadata": {
    "scrolled": true
   },
   "outputs": [
    {
     "data": {
      "application/vnd.jupyter.widget-view+json": {
       "model_id": "c0e2e2174b1644ed91ed76b5f30a6d6e",
       "version_major": 2,
       "version_minor": 0
      },
      "text/plain": [
       "0it [00:00, ?it/s]"
      ]
     },
     "metadata": {},
     "output_type": "display_data"
    },
    {
     "name": "stdout",
     "output_type": "stream",
     "text": [
      "0\n",
      "1000\n",
      "2000\n",
      "3000\n",
      "4000\n",
      "5000\n",
      "6000\n",
      "7000\n",
      "8000\n",
      "9000\n",
      "10000\n"
     ]
    }
   ],
   "source": [
    "from PIL import Image\n",
    "from tqdm.notebook import tqdm\n",
    "new_imgs = []\n",
    "\n",
    "for i, p in tqdm(enumerate(train_data['path'].values)):\n",
    "    if i % 1000 == 0: \n",
    "        print(i)\n",
    "        \n",
    "    img = Image.open(p)\n",
    "\n",
    "    for it in range(10):\n",
    "        new_img = img.rotate(np.random.rand() * 60 - 30, resample=3)\n",
    "  \n",
    "        if np.random.rand() > 0.5:\n",
    "            new_img = new_img.transpose(Image.FLIP_LEFT_RIGHT)\n",
    "        \n",
    "        new_img_name = './paddy-disease/modified_train/' + p.split('/')[-1][:-4] + '_' + str(it) + '.jpg'\n",
    "        new_img.save(new_img_name)\n",
    "        new_imgs.append([new_img_name, p.split('/')[-2], p.split('/')[-1]])"
   ]
  },
  {
   "cell_type": "code",
   "execution_count": 13,
   "metadata": {},
   "outputs": [
    {
     "data": {
      "text/html": [
       "<div>\n",
       "<style scoped>\n",
       "    .dataframe tbody tr th:only-of-type {\n",
       "        vertical-align: middle;\n",
       "    }\n",
       "\n",
       "    .dataframe tbody tr th {\n",
       "        vertical-align: top;\n",
       "    }\n",
       "\n",
       "    .dataframe thead th {\n",
       "        text-align: right;\n",
       "    }\n",
       "</style>\n",
       "<table border=\"1\" class=\"dataframe\">\n",
       "  <thead>\n",
       "    <tr style=\"text-align: right;\">\n",
       "      <th></th>\n",
       "      <th>image_id</th>\n",
       "      <th>label</th>\n",
       "      <th>variety</th>\n",
       "      <th>age</th>\n",
       "      <th>path</th>\n",
       "    </tr>\n",
       "  </thead>\n",
       "  <tbody>\n",
       "    <tr>\n",
       "      <th>0</th>\n",
       "      <td>100330.jpg</td>\n",
       "      <td>bacterial_leaf_blight</td>\n",
       "      <td>ADT45</td>\n",
       "      <td>45.0</td>\n",
       "      <td>./paddy-disease/train_images/bacterial_leaf_bl...</td>\n",
       "    </tr>\n",
       "    <tr>\n",
       "      <th>1</th>\n",
       "      <td>100365.jpg</td>\n",
       "      <td>bacterial_leaf_blight</td>\n",
       "      <td>ADT45</td>\n",
       "      <td>45.0</td>\n",
       "      <td>./paddy-disease/train_images/bacterial_leaf_bl...</td>\n",
       "    </tr>\n",
       "    <tr>\n",
       "      <th>2</th>\n",
       "      <td>100382.jpg</td>\n",
       "      <td>bacterial_leaf_blight</td>\n",
       "      <td>ADT45</td>\n",
       "      <td>45.0</td>\n",
       "      <td>./paddy-disease/train_images/bacterial_leaf_bl...</td>\n",
       "    </tr>\n",
       "    <tr>\n",
       "      <th>3</th>\n",
       "      <td>100632.jpg</td>\n",
       "      <td>bacterial_leaf_blight</td>\n",
       "      <td>ADT45</td>\n",
       "      <td>45.0</td>\n",
       "      <td>./paddy-disease/train_images/bacterial_leaf_bl...</td>\n",
       "    </tr>\n",
       "    <tr>\n",
       "      <th>4</th>\n",
       "      <td>101918.jpg</td>\n",
       "      <td>bacterial_leaf_blight</td>\n",
       "      <td>ADT45</td>\n",
       "      <td>45.0</td>\n",
       "      <td>./paddy-disease/train_images/bacterial_leaf_bl...</td>\n",
       "    </tr>\n",
       "    <tr>\n",
       "      <th>...</th>\n",
       "      <td>...</td>\n",
       "      <td>...</td>\n",
       "      <td>...</td>\n",
       "      <td>...</td>\n",
       "      <td>...</td>\n",
       "    </tr>\n",
       "    <tr>\n",
       "      <th>114472</th>\n",
       "      <td>110381.jpg</td>\n",
       "      <td>tungro</td>\n",
       "      <td>NaN</td>\n",
       "      <td>NaN</td>\n",
       "      <td>./paddy-disease/modified_train/110381_5.jpg</td>\n",
       "    </tr>\n",
       "    <tr>\n",
       "      <th>114473</th>\n",
       "      <td>110381.jpg</td>\n",
       "      <td>tungro</td>\n",
       "      <td>NaN</td>\n",
       "      <td>NaN</td>\n",
       "      <td>./paddy-disease/modified_train/110381_6.jpg</td>\n",
       "    </tr>\n",
       "    <tr>\n",
       "      <th>114474</th>\n",
       "      <td>110381.jpg</td>\n",
       "      <td>tungro</td>\n",
       "      <td>NaN</td>\n",
       "      <td>NaN</td>\n",
       "      <td>./paddy-disease/modified_train/110381_7.jpg</td>\n",
       "    </tr>\n",
       "    <tr>\n",
       "      <th>114475</th>\n",
       "      <td>110381.jpg</td>\n",
       "      <td>tungro</td>\n",
       "      <td>NaN</td>\n",
       "      <td>NaN</td>\n",
       "      <td>./paddy-disease/modified_train/110381_8.jpg</td>\n",
       "    </tr>\n",
       "    <tr>\n",
       "      <th>114476</th>\n",
       "      <td>110381.jpg</td>\n",
       "      <td>tungro</td>\n",
       "      <td>NaN</td>\n",
       "      <td>NaN</td>\n",
       "      <td>./paddy-disease/modified_train/110381_9.jpg</td>\n",
       "    </tr>\n",
       "  </tbody>\n",
       "</table>\n",
       "<p>114477 rows × 5 columns</p>\n",
       "</div>"
      ],
      "text/plain": [
       "          image_id                  label variety   age  \\\n",
       "0       100330.jpg  bacterial_leaf_blight   ADT45  45.0   \n",
       "1       100365.jpg  bacterial_leaf_blight   ADT45  45.0   \n",
       "2       100382.jpg  bacterial_leaf_blight   ADT45  45.0   \n",
       "3       100632.jpg  bacterial_leaf_blight   ADT45  45.0   \n",
       "4       101918.jpg  bacterial_leaf_blight   ADT45  45.0   \n",
       "...            ...                    ...     ...   ...   \n",
       "114472  110381.jpg                 tungro     NaN   NaN   \n",
       "114473  110381.jpg                 tungro     NaN   NaN   \n",
       "114474  110381.jpg                 tungro     NaN   NaN   \n",
       "114475  110381.jpg                 tungro     NaN   NaN   \n",
       "114476  110381.jpg                 tungro     NaN   NaN   \n",
       "\n",
       "                                                     path  \n",
       "0       ./paddy-disease/train_images/bacterial_leaf_bl...  \n",
       "1       ./paddy-disease/train_images/bacterial_leaf_bl...  \n",
       "2       ./paddy-disease/train_images/bacterial_leaf_bl...  \n",
       "3       ./paddy-disease/train_images/bacterial_leaf_bl...  \n",
       "4       ./paddy-disease/train_images/bacterial_leaf_bl...  \n",
       "...                                                   ...  \n",
       "114472        ./paddy-disease/modified_train/110381_5.jpg  \n",
       "114473        ./paddy-disease/modified_train/110381_6.jpg  \n",
       "114474        ./paddy-disease/modified_train/110381_7.jpg  \n",
       "114475        ./paddy-disease/modified_train/110381_8.jpg  \n",
       "114476        ./paddy-disease/modified_train/110381_9.jpg  \n",
       "\n",
       "[114477 rows x 5 columns]"
      ]
     },
     "execution_count": 13,
     "metadata": {},
     "output_type": "execute_result"
    }
   ],
   "source": [
    "train_data = pd.concat([train_data, pd.DataFrame(new_imgs, columns = ['path', 'label', 'image_id'])]).reset_index(drop = True)\n",
    "train_data"
   ]
  },
  {
   "cell_type": "markdown",
   "metadata": {},
   "source": [
    "Let's do the same for the test dataset:"
   ]
  },
  {
   "cell_type": "code",
   "execution_count": 22,
   "metadata": {},
   "outputs": [],
   "source": [
    "os.mkdir('./paddy-disease/modified_test')"
   ]
  },
  {
   "cell_type": "code",
   "execution_count": 14,
   "metadata": {},
   "outputs": [
    {
     "data": {
      "application/vnd.jupyter.widget-view+json": {
       "model_id": "2d6a6c9a493b4a6298da4543f3ed3dba",
       "version_major": 2,
       "version_minor": 0
      },
      "text/plain": [
       "0it [00:00, ?it/s]"
      ]
     },
     "metadata": {},
     "output_type": "display_data"
    },
    {
     "name": "stdout",
     "output_type": "stream",
     "text": [
      "0\n",
      "1000\n",
      "2000\n",
      "3000\n"
     ]
    }
   ],
   "source": [
    "new_imgs = []\n",
    "\n",
    "for i, p in tqdm(enumerate(submission['path'].values)):\n",
    "    if i % 1000 == 0: \n",
    "        print(i)\n",
    "      \n",
    "    img = Image.open(p)\n",
    "\n",
    "    for it in range(5):\n",
    "        new_img = img.rotate(np.random.rand() * 60 - 30, resample=3)\n",
    "        if np.random.rand() > 0.5:\n",
    "            new_img = new_img.transpose(Image.FLIP_LEFT_RIGHT)\n",
    "        \n",
    "        new_img_name = './paddy-disease/modified_test/' + p.split('/')[-1][:-4] + '_' + str(it) + '.jpg'\n",
    "        new_img.save(new_img_name)\n",
    "        new_imgs.append([new_img_name, p.split('/')[-1]])"
   ]
  },
  {
   "cell_type": "code",
   "execution_count": 15,
   "metadata": {},
   "outputs": [
    {
     "data": {
      "text/html": [
       "<div>\n",
       "<style scoped>\n",
       "    .dataframe tbody tr th:only-of-type {\n",
       "        vertical-align: middle;\n",
       "    }\n",
       "\n",
       "    .dataframe tbody tr th {\n",
       "        vertical-align: top;\n",
       "    }\n",
       "\n",
       "    .dataframe thead th {\n",
       "        text-align: right;\n",
       "    }\n",
       "</style>\n",
       "<table border=\"1\" class=\"dataframe\">\n",
       "  <thead>\n",
       "    <tr style=\"text-align: right;\">\n",
       "      <th></th>\n",
       "      <th>image_id</th>\n",
       "      <th>label</th>\n",
       "      <th>path</th>\n",
       "    </tr>\n",
       "  </thead>\n",
       "  <tbody>\n",
       "    <tr>\n",
       "      <th>0</th>\n",
       "      <td>200001.jpg</td>\n",
       "      <td>NaN</td>\n",
       "      <td>./paddy-disease/test_images/200001.jpg</td>\n",
       "    </tr>\n",
       "    <tr>\n",
       "      <th>1</th>\n",
       "      <td>200002.jpg</td>\n",
       "      <td>NaN</td>\n",
       "      <td>./paddy-disease/test_images/200002.jpg</td>\n",
       "    </tr>\n",
       "    <tr>\n",
       "      <th>2</th>\n",
       "      <td>200003.jpg</td>\n",
       "      <td>NaN</td>\n",
       "      <td>./paddy-disease/test_images/200003.jpg</td>\n",
       "    </tr>\n",
       "    <tr>\n",
       "      <th>3</th>\n",
       "      <td>200004.jpg</td>\n",
       "      <td>NaN</td>\n",
       "      <td>./paddy-disease/test_images/200004.jpg</td>\n",
       "    </tr>\n",
       "    <tr>\n",
       "      <th>4</th>\n",
       "      <td>200005.jpg</td>\n",
       "      <td>NaN</td>\n",
       "      <td>./paddy-disease/test_images/200005.jpg</td>\n",
       "    </tr>\n",
       "    <tr>\n",
       "      <th>...</th>\n",
       "      <td>...</td>\n",
       "      <td>...</td>\n",
       "      <td>...</td>\n",
       "    </tr>\n",
       "    <tr>\n",
       "      <th>20809</th>\n",
       "      <td>203469.jpg</td>\n",
       "      <td>NaN</td>\n",
       "      <td>./paddy-disease/modified_test/203469_0.jpg</td>\n",
       "    </tr>\n",
       "    <tr>\n",
       "      <th>20810</th>\n",
       "      <td>203469.jpg</td>\n",
       "      <td>NaN</td>\n",
       "      <td>./paddy-disease/modified_test/203469_1.jpg</td>\n",
       "    </tr>\n",
       "    <tr>\n",
       "      <th>20811</th>\n",
       "      <td>203469.jpg</td>\n",
       "      <td>NaN</td>\n",
       "      <td>./paddy-disease/modified_test/203469_2.jpg</td>\n",
       "    </tr>\n",
       "    <tr>\n",
       "      <th>20812</th>\n",
       "      <td>203469.jpg</td>\n",
       "      <td>NaN</td>\n",
       "      <td>./paddy-disease/modified_test/203469_3.jpg</td>\n",
       "    </tr>\n",
       "    <tr>\n",
       "      <th>20813</th>\n",
       "      <td>203469.jpg</td>\n",
       "      <td>NaN</td>\n",
       "      <td>./paddy-disease/modified_test/203469_4.jpg</td>\n",
       "    </tr>\n",
       "  </tbody>\n",
       "</table>\n",
       "<p>20814 rows × 3 columns</p>\n",
       "</div>"
      ],
      "text/plain": [
       "         image_id  label                                        path\n",
       "0      200001.jpg    NaN      ./paddy-disease/test_images/200001.jpg\n",
       "1      200002.jpg    NaN      ./paddy-disease/test_images/200002.jpg\n",
       "2      200003.jpg    NaN      ./paddy-disease/test_images/200003.jpg\n",
       "3      200004.jpg    NaN      ./paddy-disease/test_images/200004.jpg\n",
       "4      200005.jpg    NaN      ./paddy-disease/test_images/200005.jpg\n",
       "...           ...    ...                                         ...\n",
       "20809  203469.jpg    NaN  ./paddy-disease/modified_test/203469_0.jpg\n",
       "20810  203469.jpg    NaN  ./paddy-disease/modified_test/203469_1.jpg\n",
       "20811  203469.jpg    NaN  ./paddy-disease/modified_test/203469_2.jpg\n",
       "20812  203469.jpg    NaN  ./paddy-disease/modified_test/203469_3.jpg\n",
       "20813  203469.jpg    NaN  ./paddy-disease/modified_test/203469_4.jpg\n",
       "\n",
       "[20814 rows x 3 columns]"
      ]
     },
     "execution_count": 15,
     "metadata": {},
     "output_type": "execute_result"
    }
   ],
   "source": [
    "submission = pd.concat([submission, pd.DataFrame(new_imgs, columns = ['path', 'image_id'])]).reset_index(drop = True)\n",
    "submission"
   ]
  },
  {
   "cell_type": "markdown",
   "metadata": {
    "papermill": {
     "duration": 0.071526,
     "end_time": "2021-06-22T20:11:22.853156",
     "exception": false,
     "start_time": "2021-06-22T20:11:22.78163",
     "status": "completed"
    },
    "tags": []
   },
   "source": [
    "## Task definition"
   ]
  },
  {
   "cell_type": "markdown",
   "metadata": {},
   "source": [
    "### Task type\n",
    "\n",
    "On the cell below we create ```Task``` object - the class to setup what task LightAutoML model should solve with specific loss and metric if necessary (more info can be found [here](https://lightautoml.readthedocs.io/en/latest/pages/modules/generated/lightautoml.tasks.base.Task.html#lightautoml.tasks.base.Task) in our documentation). In general, it can be any type of tasks available in LightAutoML (binary and multi-class classification, one-dimensional and multi-dimensional regression, multi-label classification), but in this case we have a multi-class classification task:"
   ]
  },
  {
   "cell_type": "code",
   "execution_count": 16,
   "metadata": {
    "execution": {
     "iopub.execute_input": "2022-07-05T15:03:11.435456Z",
     "iopub.status.busy": "2022-07-05T15:03:11.435099Z",
     "iopub.status.idle": "2022-07-05T15:03:11.443489Z",
     "shell.execute_reply": "2022-07-05T15:03:11.442495Z",
     "shell.execute_reply.started": "2022-07-05T15:03:11.435426Z"
    },
    "papermill": {
     "duration": 0.086442,
     "end_time": "2021-06-22T20:11:23.010643",
     "exception": false,
     "start_time": "2021-06-22T20:11:22.924201",
     "status": "completed"
    },
    "tags": []
   },
   "outputs": [],
   "source": [
    "task = Task('multiclass')"
   ]
  },
  {
   "cell_type": "markdown",
   "metadata": {},
   "source": [
    "Default metric and loss in multi-class classification is cross-entropy."
   ]
  },
  {
   "cell_type": "markdown",
   "metadata": {
    "papermill": {
     "duration": 0.070103,
     "end_time": "2021-06-22T20:11:23.150929",
     "exception": false,
     "start_time": "2021-06-22T20:11:23.080826",
     "status": "completed"
    },
    "tags": []
   },
   "source": [
    "### Feature roles setup"
   ]
  },
  {
   "cell_type": "markdown",
   "metadata": {
    "papermill": {
     "duration": 0.069372,
     "end_time": "2021-06-22T20:11:23.290153",
     "exception": false,
     "start_time": "2021-06-22T20:11:23.220781",
     "status": "completed"
    },
    "tags": []
   },
   "source": [
    "Next we need to setup columns roles. It is necessary to specify the role of the target variable (```'target'```), as well as the role of the path to the images (```'path'```) in the case of using ```TabularCVAutoML```. We will also group the images (the original ones and their augmentations) and apply group k-fold cross-validation, specifying the column with ids as the ```'group'``` role:"
   ]
  },
  {
   "cell_type": "code",
   "execution_count": 17,
   "metadata": {
    "execution": {
     "iopub.execute_input": "2022-07-05T15:04:51.585907Z",
     "iopub.status.busy": "2022-07-05T15:04:51.585493Z",
     "iopub.status.idle": "2022-07-05T15:04:51.590716Z",
     "shell.execute_reply": "2022-07-05T15:04:51.589789Z",
     "shell.execute_reply.started": "2022-07-05T15:04:51.585872Z"
    },
    "papermill": {
     "duration": 0.07715,
     "end_time": "2021-06-22T20:11:23.43883",
     "exception": false,
     "start_time": "2021-06-22T20:11:23.36168",
     "status": "completed"
    },
    "tags": []
   },
   "outputs": [],
   "source": [
    "roles = {\n",
    "    'target': 'label',\n",
    "    'path': ['path'],\n",
    "    'drop': ['variety', 'age'],\n",
    "    'group': 'image_id'\n",
    "}"
   ]
  },
  {
   "cell_type": "markdown",
   "metadata": {},
   "source": [
    "Then we initialize ```TabularCVAutoML```. It is possible to specify many parameters (reader parameters, time and memory limits etc), including the EfficientNet parameters for getting embeddings: version (```B0``` by default), device, batch size (128 by default), path for weights, [AdvProp weights](https://arxiv.org/abs/1911.09665) using (for better use of the shape in images, ```True``` by default) etc. Note that the ```Utilized``` version of ```TabularCVAutoML``` for more flexible use of time resources is not yet available."
   ]
  },
  {
   "cell_type": "code",
   "execution_count": 18,
   "metadata": {},
   "outputs": [],
   "source": [
    "automl = TabularCVAutoML(task = task,\n",
    "                         timeout=5 * 3600,\n",
    "                        cpu_limit = 2,\n",
    "                        reader_params = {'cv': 5, 'random_state': 42})"
   ]
  },
  {
   "cell_type": "markdown",
   "metadata": {},
   "source": [
    "## AutoML training"
   ]
  },
  {
   "cell_type": "markdown",
   "metadata": {},
   "source": [
    "To run autoML training use fit_predict method:\n",
    "- `train_data` - Dataset to train.\n",
    "- `roles` - Roles dict.\n",
    "- `verbose` - Controls the verbosity: the higher, the more messages.\n",
    "        <1  : messages are not displayed;\n",
    "        >=1 : the computation process for layers is displayed;\n",
    "        >=2 : the information about folds processing is also displayed;\n",
    "        >=3 : the hyperparameters optimization process is also displayed;\n",
    "        >=4 : the training process for every algorithm is displayed;\n",
    "\n",
    "Note: out-of-fold prediction is calculated during training and returned from the fit_predict method"
   ]
  },
  {
   "cell_type": "code",
   "execution_count": 19,
   "metadata": {
    "execution": {
     "iopub.execute_input": "2022-07-05T15:26:18.568874Z",
     "iopub.status.busy": "2022-07-05T15:26:18.568501Z",
     "iopub.status.idle": "2022-07-05T15:26:18.608695Z",
     "shell.execute_reply": "2022-07-05T15:26:18.607791Z",
     "shell.execute_reply.started": "2022-07-05T15:26:18.568842Z"
    },
    "scrolled": false
   },
   "outputs": [
    {
     "name": "stdout",
     "output_type": "stream",
     "text": [
      "[14:04:32] Stdout logging level is INFO3.\n",
      "[14:04:32] Task: multiclass\n",
      "\n",
      "[14:04:32] Start automl preset with listed constraints:\n",
      "[14:04:32] - time: 18000.00 seconds\n",
      "[14:04:32] - CPU: 2 cores\n",
      "[14:04:32] - memory: 16 GB\n",
      "\n",
      "[14:04:32] \u001b[1mTrain data shape: (114477, 5)\u001b[0m\n",
      "\n",
      "[14:04:32] Layer \u001b[1m1\u001b[0m train process start. Time left 17999.83 secs\n"
     ]
    },
    {
     "name": "stderr",
     "output_type": "stream",
     "text": [
      "100%|██████████| 895/895 [07:29<00:00,  1.99it/s]\n"
     ]
    },
    {
     "name": "stdout",
     "output_type": "stream",
     "text": [
      "[14:12:09] Feature path transformed\n",
      "[14:12:16] Start fitting \u001b[1mLvl_0_Pipe_0_Mod_0_LinearL2\u001b[0m ...\n",
      "[14:12:17] ===== Start working with \u001b[1mfold 0\u001b[0m for \u001b[1mLvl_0_Pipe_0_Mod_0_LinearL2\u001b[0m =====\n",
      "[14:12:26] Linear model: C = 1e-05 score = -0.9995305866945853\n",
      "[14:12:32] Linear model: C = 5e-05 score = -0.6879959560713191\n",
      "[14:12:38] Linear model: C = 0.0001 score = -0.5802952177399445\n",
      "[14:12:45] Linear model: C = 0.0005 score = -0.3907926611544111\n",
      "[14:12:51] Linear model: C = 0.001 score = -0.33425017155675657\n",
      "[14:13:00] Linear model: C = 0.005 score = -0.2559518217619532\n",
      "[14:13:07] Linear model: C = 0.01 score = -0.24141776919439237\n",
      "[14:13:15] Linear model: C = 0.05 score = -0.2431661172897411\n",
      "[14:13:23] Linear model: C = 0.1 score = -0.25925367786528475\n",
      "[14:13:24] ===== Start working with \u001b[1mfold 1\u001b[0m for \u001b[1mLvl_0_Pipe_0_Mod_0_LinearL2\u001b[0m =====\n",
      "[14:13:32] Linear model: C = 1e-05 score = -0.9872444001968863\n",
      "[14:13:39] Linear model: C = 5e-05 score = -0.6682540100549987\n",
      "[14:13:45] Linear model: C = 0.0001 score = -0.5574685730009872\n",
      "[14:13:51] Linear model: C = 0.0005 score = -0.3653461360638747\n",
      "[14:13:58] Linear model: C = 0.001 score = -0.31059360297670363\n",
      "[14:14:05] Linear model: C = 0.005 score = -0.2370436682635623\n",
      "[14:14:14] Linear model: C = 0.01 score = -0.22495884629469698\n",
      "[14:14:21] Linear model: C = 0.05 score = -0.23420873784566962\n",
      "[14:14:29] Linear model: C = 0.1 score = -0.25263966927426823\n",
      "[14:14:29] ===== Start working with \u001b[1mfold 2\u001b[0m for \u001b[1mLvl_0_Pipe_0_Mod_0_LinearL2\u001b[0m =====\n",
      "[14:14:37] Linear model: C = 1e-05 score = -0.9554531133528031\n",
      "[14:14:43] Linear model: C = 5e-05 score = -0.640784196156178\n",
      "[14:14:49] Linear model: C = 0.0001 score = -0.5345024606190905\n",
      "[14:14:57] Linear model: C = 0.0005 score = -0.3546726337461952\n",
      "[14:15:04] Linear model: C = 0.001 score = -0.30344210801693483\n",
      "[14:15:12] Linear model: C = 0.005 score = -0.2331574262775805\n",
      "[14:15:19] Linear model: C = 0.01 score = -0.22071779776854528\n",
      "[14:15:28] Linear model: C = 0.05 score = -0.22603075278344578\n",
      "[14:15:36] Linear model: C = 0.1 score = -0.24138537694410292\n",
      "[14:15:36] ===== Start working with \u001b[1mfold 3\u001b[0m for \u001b[1mLvl_0_Pipe_0_Mod_0_LinearL2\u001b[0m =====\n",
      "[14:15:44] Linear model: C = 1e-05 score = -0.973115505822288\n",
      "[14:15:51] Linear model: C = 5e-05 score = -0.6613476137718094\n",
      "[14:15:56] Linear model: C = 0.0001 score = -0.5539538946164072\n",
      "[14:16:04] Linear model: C = 0.0005 score = -0.3666276035478478\n",
      "[14:16:10] Linear model: C = 0.001 score = -0.31130200709742806\n",
      "[14:16:18] Linear model: C = 0.005 score = -0.2326339584928626\n",
      "[14:16:25] Linear model: C = 0.01 score = -0.21658099282365262\n",
      "[14:16:33] Linear model: C = 0.05 score = -0.21364841773406087\n",
      "[14:16:42] Linear model: C = 0.1 score = -0.2256018292053085\n",
      "[14:16:51] Linear model: C = 0.5 score = -0.2763179966937595\n",
      "[14:16:51] ===== Start working with \u001b[1mfold 4\u001b[0m for \u001b[1mLvl_0_Pipe_0_Mod_0_LinearL2\u001b[0m =====\n",
      "[14:16:58] Linear model: C = 1e-05 score = -0.9531496536787142\n",
      "[14:17:05] Linear model: C = 5e-05 score = -0.6270339670737181\n",
      "[14:17:10] Linear model: C = 0.0001 score = -0.517302736118502\n",
      "[14:17:17] Linear model: C = 0.0005 score = -0.331531311465719\n",
      "[14:17:23] Linear model: C = 0.001 score = -0.27798570249468424\n",
      "[14:17:32] Linear model: C = 0.005 score = -0.20448637290477473\n",
      "[14:17:39] Linear model: C = 0.01 score = -0.19081673660070902\n",
      "[14:17:47] Linear model: C = 0.05 score = -0.1923892363102242\n",
      "[14:17:56] Linear model: C = 0.1 score = -0.20661581389305533\n",
      "[14:17:56] Fitting \u001b[1mLvl_0_Pipe_0_Mod_0_LinearL2\u001b[0m finished. score = \u001b[1m-0.21831477243925082\u001b[0m\n",
      "[14:17:56] \u001b[1mLvl_0_Pipe_0_Mod_0_LinearL2\u001b[0m fitting and predicting completed\n",
      "[14:17:56] Time left 17195.98 secs\n",
      "\n",
      "[14:22:15] Start fitting \u001b[1mLvl_0_Pipe_1_Mod_0_CatBoost\u001b[0m ...\n",
      "[14:22:16] ===== Start working with \u001b[1mfold 0\u001b[0m for \u001b[1mLvl_0_Pipe_1_Mod_0_CatBoost\u001b[0m =====\n",
      "[14:22:16] 0:\tlearn: 2.2636799\ttest: 2.2649649\tbest: 2.2649649 (0)\ttotal: 6.85ms\tremaining: 27.4s\n",
      "[14:22:35] bestTest = 0.2436411292\n",
      "[14:22:35] bestIteration = 3999\n",
      "[14:22:35] ===== Start working with \u001b[1mfold 1\u001b[0m for \u001b[1mLvl_0_Pipe_1_Mod_0_CatBoost\u001b[0m =====\n",
      "[14:22:36] 0:\tlearn: 2.2634692\ttest: 2.2632526\tbest: 2.2632526 (0)\ttotal: 6.16ms\tremaining: 24.6s\n",
      "[14:22:55] bestTest = 0.2658199543\n",
      "[14:22:55] bestIteration = 3999\n",
      "[14:22:56] ===== Start working with \u001b[1mfold 2\u001b[0m for \u001b[1mLvl_0_Pipe_1_Mod_0_CatBoost\u001b[0m =====\n",
      "[14:22:56] 0:\tlearn: 2.2631654\ttest: 2.2656298\tbest: 2.2656298 (0)\ttotal: 6.08ms\tremaining: 24.3s\n",
      "[14:23:16] bestTest = 0.2753673319\n",
      "[14:23:16] bestIteration = 3999\n",
      "[14:23:16] ===== Start working with \u001b[1mfold 3\u001b[0m for \u001b[1mLvl_0_Pipe_1_Mod_0_CatBoost\u001b[0m =====\n",
      "[14:23:17] 0:\tlearn: 2.2645696\ttest: 2.2657045\tbest: 2.2657045 (0)\ttotal: 6.76ms\tremaining: 27s\n",
      "[14:23:37] bestTest = 0.2738943611\n",
      "[14:23:37] bestIteration = 3996\n",
      "[14:23:37] Shrink model to first 3997 iterations.\n",
      "[14:23:37] ===== Start working with \u001b[1mfold 4\u001b[0m for \u001b[1mLvl_0_Pipe_1_Mod_0_CatBoost\u001b[0m =====\n",
      "[14:23:38] 0:\tlearn: 2.2642805\ttest: 2.2644245\tbest: 2.2644245 (0)\ttotal: 5.84ms\tremaining: 23.4s\n",
      "[14:23:57] bestTest = 0.2538460334\n",
      "[14:23:57] bestIteration = 3999\n",
      "[14:23:58] Fitting \u001b[1mLvl_0_Pipe_1_Mod_0_CatBoost\u001b[0m finished. score = \u001b[1m-0.2625123265864018\u001b[0m\n",
      "[14:23:58] \u001b[1mLvl_0_Pipe_1_Mod_0_CatBoost\u001b[0m fitting and predicting completed\n",
      "[14:23:58] Time left 16834.07 secs\n",
      "\n",
      "[14:23:58] \u001b[1mLayer 1 training completed.\u001b[0m\n",
      "\n",
      "[14:23:58] Blending: optimization starts with equal weights and score \u001b[1m-0.1879588701291192\u001b[0m\n"
     ]
    },
    {
     "name": "stderr",
     "output_type": "stream",
     "text": [
      "/home/dvladimirvasilyev/anaconda3/envs/myenv/lib/python3.8/site-packages/sklearn/metrics/_classification.py:2916: UserWarning: The y_pred values do not sum to one. Starting from 1.5 thiswill result in an error.\n",
      "  warnings.warn(\n"
     ]
    },
    {
     "name": "stdout",
     "output_type": "stream",
     "text": [
      "[14:23:59] Blending: iteration \u001b[1m0\u001b[0m: score = \u001b[1m-0.18573794844833624\u001b[0m, weights = \u001b[1m[0.63928086 0.36071914]\u001b[0m\n",
      "[14:23:59] Blending: iteration \u001b[1m1\u001b[0m: score = \u001b[1m-0.18573794844833624\u001b[0m, weights = \u001b[1m[0.63928086 0.36071914]\u001b[0m\n",
      "[14:23:59] Blending: no score update. Terminated\n",
      "\n",
      "[14:23:59] \u001b[1mAutoml preset training completed in 1167.35 seconds\u001b[0m\n",
      "\n",
      "[14:23:59] Model description:\n",
      "Final prediction for new objects (level 0) = \n",
      "\t 0.63928 * (5 averaged models Lvl_0_Pipe_0_Mod_0_LinearL2) +\n",
      "\t 0.36072 * (5 averaged models Lvl_0_Pipe_1_Mod_0_CatBoost) \n",
      "\n",
      "CPU times: user 18min 40s, sys: 3min 1s, total: 21min 42s\n",
      "Wall time: 19min 27s\n"
     ]
    }
   ],
   "source": [
    "%%time \n",
    "\n",
    "oof_pred = automl.fit_predict(train_data, roles = roles, verbose = 3)"
   ]
  },
  {
   "cell_type": "markdown",
   "metadata": {},
   "source": [
    "Сonsider out-of-fold predictions on train data. In case of classification, ```LightAutoML``` returns class probabilities as an output."
   ]
  },
  {
   "cell_type": "code",
   "execution_count": 21,
   "metadata": {},
   "outputs": [
    {
     "data": {
      "text/html": [
       "<div>\n",
       "<style scoped>\n",
       "    .dataframe tbody tr th:only-of-type {\n",
       "        vertical-align: middle;\n",
       "    }\n",
       "\n",
       "    .dataframe tbody tr th {\n",
       "        vertical-align: top;\n",
       "    }\n",
       "\n",
       "    .dataframe thead th {\n",
       "        text-align: right;\n",
       "    }\n",
       "</style>\n",
       "<table border=\"1\" class=\"dataframe\">\n",
       "  <thead>\n",
       "    <tr style=\"text-align: right;\">\n",
       "      <th></th>\n",
       "      <th>image_id</th>\n",
       "      <th>label</th>\n",
       "    </tr>\n",
       "  </thead>\n",
       "  <tbody>\n",
       "    <tr>\n",
       "      <th>0</th>\n",
       "      <td>100330.jpg</td>\n",
       "      <td>bacterial_leaf_blight</td>\n",
       "    </tr>\n",
       "    <tr>\n",
       "      <th>1</th>\n",
       "      <td>100365.jpg</td>\n",
       "      <td>bacterial_leaf_blight</td>\n",
       "    </tr>\n",
       "    <tr>\n",
       "      <th>2</th>\n",
       "      <td>100382.jpg</td>\n",
       "      <td>bacterial_leaf_blight</td>\n",
       "    </tr>\n",
       "    <tr>\n",
       "      <th>3</th>\n",
       "      <td>100632.jpg</td>\n",
       "      <td>bacterial_leaf_blight</td>\n",
       "    </tr>\n",
       "    <tr>\n",
       "      <th>4</th>\n",
       "      <td>101918.jpg</td>\n",
       "      <td>bacterial_leaf_blight</td>\n",
       "    </tr>\n",
       "    <tr>\n",
       "      <th>...</th>\n",
       "      <td>...</td>\n",
       "      <td>...</td>\n",
       "    </tr>\n",
       "    <tr>\n",
       "      <th>114472</th>\n",
       "      <td>110381.jpg</td>\n",
       "      <td>tungro</td>\n",
       "    </tr>\n",
       "    <tr>\n",
       "      <th>114473</th>\n",
       "      <td>110381.jpg</td>\n",
       "      <td>tungro</td>\n",
       "    </tr>\n",
       "    <tr>\n",
       "      <th>114474</th>\n",
       "      <td>110381.jpg</td>\n",
       "      <td>tungro</td>\n",
       "    </tr>\n",
       "    <tr>\n",
       "      <th>114475</th>\n",
       "      <td>110381.jpg</td>\n",
       "      <td>tungro</td>\n",
       "    </tr>\n",
       "    <tr>\n",
       "      <th>114476</th>\n",
       "      <td>110381.jpg</td>\n",
       "      <td>tungro</td>\n",
       "    </tr>\n",
       "  </tbody>\n",
       "</table>\n",
       "<p>114477 rows × 2 columns</p>\n",
       "</div>"
      ],
      "text/plain": [
       "          image_id                  label\n",
       "0       100330.jpg  bacterial_leaf_blight\n",
       "1       100365.jpg  bacterial_leaf_blight\n",
       "2       100382.jpg  bacterial_leaf_blight\n",
       "3       100632.jpg  bacterial_leaf_blight\n",
       "4       101918.jpg  bacterial_leaf_blight\n",
       "...            ...                    ...\n",
       "114472  110381.jpg                 tungro\n",
       "114473  110381.jpg                 tungro\n",
       "114474  110381.jpg                 tungro\n",
       "114475  110381.jpg                 tungro\n",
       "114476  110381.jpg                 tungro\n",
       "\n",
       "[114477 rows x 2 columns]"
      ]
     },
     "execution_count": 21,
     "metadata": {},
     "output_type": "execute_result"
    }
   ],
   "source": [
    "preds = train_data[['image_id', 'label']]\n",
    "preds"
   ]
  },
  {
   "cell_type": "code",
   "execution_count": 22,
   "metadata": {},
   "outputs": [
    {
     "name": "stderr",
     "output_type": "stream",
     "text": [
      "/tmp/ipykernel_12895/1432655611.py:2: SettingWithCopyWarning: \n",
      "A value is trying to be set on a copy of a slice from a DataFrame.\n",
      "Try using .loc[row_indexer,col_indexer] = value instead\n",
      "\n",
      "See the caveats in the documentation: https://pandas.pydata.org/pandas-docs/stable/user_guide/indexing.html#returning-a-view-versus-a-copy\n",
      "  preds['pred_' + str(i)] = oof_pred.data[:,i]\n",
      "/tmp/ipykernel_12895/1432655611.py:2: SettingWithCopyWarning: \n",
      "A value is trying to be set on a copy of a slice from a DataFrame.\n",
      "Try using .loc[row_indexer,col_indexer] = value instead\n",
      "\n",
      "See the caveats in the documentation: https://pandas.pydata.org/pandas-docs/stable/user_guide/indexing.html#returning-a-view-versus-a-copy\n",
      "  preds['pred_' + str(i)] = oof_pred.data[:,i]\n"
     ]
    },
    {
     "data": {
      "text/html": [
       "<div>\n",
       "<style scoped>\n",
       "    .dataframe tbody tr th:only-of-type {\n",
       "        vertical-align: middle;\n",
       "    }\n",
       "\n",
       "    .dataframe tbody tr th {\n",
       "        vertical-align: top;\n",
       "    }\n",
       "\n",
       "    .dataframe thead th {\n",
       "        text-align: right;\n",
       "    }\n",
       "</style>\n",
       "<table border=\"1\" class=\"dataframe\">\n",
       "  <thead>\n",
       "    <tr style=\"text-align: right;\">\n",
       "      <th></th>\n",
       "      <th>image_id</th>\n",
       "      <th>label</th>\n",
       "      <th>pred_0</th>\n",
       "      <th>pred_1</th>\n",
       "      <th>pred_2</th>\n",
       "      <th>pred_3</th>\n",
       "      <th>pred_4</th>\n",
       "      <th>pred_5</th>\n",
       "      <th>pred_6</th>\n",
       "      <th>pred_7</th>\n",
       "      <th>pred_8</th>\n",
       "      <th>pred_9</th>\n",
       "    </tr>\n",
       "  </thead>\n",
       "  <tbody>\n",
       "    <tr>\n",
       "      <th>0</th>\n",
       "      <td>100330.jpg</td>\n",
       "      <td>bacterial_leaf_blight</td>\n",
       "      <td>0.023245</td>\n",
       "      <td>0.315283</td>\n",
       "      <td>0.470886</td>\n",
       "      <td>0.002528</td>\n",
       "      <td>0.021895</td>\n",
       "      <td>0.007454</td>\n",
       "      <td>0.001554</td>\n",
       "      <td>0.157142</td>\n",
       "      <td>8.914904e-06</td>\n",
       "      <td>4.559626e-06</td>\n",
       "    </tr>\n",
       "    <tr>\n",
       "      <th>1</th>\n",
       "      <td>100365.jpg</td>\n",
       "      <td>bacterial_leaf_blight</td>\n",
       "      <td>0.003717</td>\n",
       "      <td>0.011035</td>\n",
       "      <td>0.028317</td>\n",
       "      <td>0.000110</td>\n",
       "      <td>0.003178</td>\n",
       "      <td>0.000015</td>\n",
       "      <td>0.000131</td>\n",
       "      <td>0.953496</td>\n",
       "      <td>1.555987e-07</td>\n",
       "      <td>5.692390e-07</td>\n",
       "    </tr>\n",
       "    <tr>\n",
       "      <th>2</th>\n",
       "      <td>100382.jpg</td>\n",
       "      <td>bacterial_leaf_blight</td>\n",
       "      <td>0.025734</td>\n",
       "      <td>0.095088</td>\n",
       "      <td>0.208473</td>\n",
       "      <td>0.000879</td>\n",
       "      <td>0.007030</td>\n",
       "      <td>0.003382</td>\n",
       "      <td>0.000142</td>\n",
       "      <td>0.659271</td>\n",
       "      <td>3.872871e-07</td>\n",
       "      <td>2.898941e-07</td>\n",
       "    </tr>\n",
       "    <tr>\n",
       "      <th>3</th>\n",
       "      <td>100632.jpg</td>\n",
       "      <td>bacterial_leaf_blight</td>\n",
       "      <td>0.002876</td>\n",
       "      <td>0.542942</td>\n",
       "      <td>0.027466</td>\n",
       "      <td>0.000317</td>\n",
       "      <td>0.036005</td>\n",
       "      <td>0.000398</td>\n",
       "      <td>0.000082</td>\n",
       "      <td>0.389901</td>\n",
       "      <td>3.837710e-06</td>\n",
       "      <td>9.339438e-06</td>\n",
       "    </tr>\n",
       "    <tr>\n",
       "      <th>4</th>\n",
       "      <td>101918.jpg</td>\n",
       "      <td>bacterial_leaf_blight</td>\n",
       "      <td>0.009988</td>\n",
       "      <td>0.033572</td>\n",
       "      <td>0.017635</td>\n",
       "      <td>0.000032</td>\n",
       "      <td>0.008310</td>\n",
       "      <td>0.000136</td>\n",
       "      <td>0.000041</td>\n",
       "      <td>0.930286</td>\n",
       "      <td>1.554736e-07</td>\n",
       "      <td>1.530466e-07</td>\n",
       "    </tr>\n",
       "    <tr>\n",
       "      <th>...</th>\n",
       "      <td>...</td>\n",
       "      <td>...</td>\n",
       "      <td>...</td>\n",
       "      <td>...</td>\n",
       "      <td>...</td>\n",
       "      <td>...</td>\n",
       "      <td>...</td>\n",
       "      <td>...</td>\n",
       "      <td>...</td>\n",
       "      <td>...</td>\n",
       "      <td>...</td>\n",
       "      <td>...</td>\n",
       "    </tr>\n",
       "    <tr>\n",
       "      <th>114472</th>\n",
       "      <td>110381.jpg</td>\n",
       "      <td>tungro</td>\n",
       "      <td>0.001716</td>\n",
       "      <td>0.109143</td>\n",
       "      <td>0.020722</td>\n",
       "      <td>0.001495</td>\n",
       "      <td>0.845324</td>\n",
       "      <td>0.000177</td>\n",
       "      <td>0.021384</td>\n",
       "      <td>0.000027</td>\n",
       "      <td>6.304998e-06</td>\n",
       "      <td>6.075803e-06</td>\n",
       "    </tr>\n",
       "    <tr>\n",
       "      <th>114473</th>\n",
       "      <td>110381.jpg</td>\n",
       "      <td>tungro</td>\n",
       "      <td>0.022644</td>\n",
       "      <td>0.137650</td>\n",
       "      <td>0.026389</td>\n",
       "      <td>0.004165</td>\n",
       "      <td>0.788036</td>\n",
       "      <td>0.001093</td>\n",
       "      <td>0.019688</td>\n",
       "      <td>0.000259</td>\n",
       "      <td>3.142513e-05</td>\n",
       "      <td>4.477663e-05</td>\n",
       "    </tr>\n",
       "    <tr>\n",
       "      <th>114474</th>\n",
       "      <td>110381.jpg</td>\n",
       "      <td>tungro</td>\n",
       "      <td>0.016897</td>\n",
       "      <td>0.072329</td>\n",
       "      <td>0.010469</td>\n",
       "      <td>0.005554</td>\n",
       "      <td>0.789777</td>\n",
       "      <td>0.001240</td>\n",
       "      <td>0.103631</td>\n",
       "      <td>0.000060</td>\n",
       "      <td>1.301366e-05</td>\n",
       "      <td>2.972130e-05</td>\n",
       "    </tr>\n",
       "    <tr>\n",
       "      <th>114475</th>\n",
       "      <td>110381.jpg</td>\n",
       "      <td>tungro</td>\n",
       "      <td>0.008637</td>\n",
       "      <td>0.114299</td>\n",
       "      <td>0.082281</td>\n",
       "      <td>0.003465</td>\n",
       "      <td>0.560001</td>\n",
       "      <td>0.000741</td>\n",
       "      <td>0.230260</td>\n",
       "      <td>0.000112</td>\n",
       "      <td>1.909918e-04</td>\n",
       "      <td>1.351225e-05</td>\n",
       "    </tr>\n",
       "    <tr>\n",
       "      <th>114476</th>\n",
       "      <td>110381.jpg</td>\n",
       "      <td>tungro</td>\n",
       "      <td>0.004179</td>\n",
       "      <td>0.099988</td>\n",
       "      <td>0.008320</td>\n",
       "      <td>0.004660</td>\n",
       "      <td>0.822037</td>\n",
       "      <td>0.000663</td>\n",
       "      <td>0.059627</td>\n",
       "      <td>0.000318</td>\n",
       "      <td>1.922170e-04</td>\n",
       "      <td>1.441010e-05</td>\n",
       "    </tr>\n",
       "  </tbody>\n",
       "</table>\n",
       "<p>114477 rows × 12 columns</p>\n",
       "</div>"
      ],
      "text/plain": [
       "          image_id                  label    pred_0    pred_1    pred_2  \\\n",
       "0       100330.jpg  bacterial_leaf_blight  0.023245  0.315283  0.470886   \n",
       "1       100365.jpg  bacterial_leaf_blight  0.003717  0.011035  0.028317   \n",
       "2       100382.jpg  bacterial_leaf_blight  0.025734  0.095088  0.208473   \n",
       "3       100632.jpg  bacterial_leaf_blight  0.002876  0.542942  0.027466   \n",
       "4       101918.jpg  bacterial_leaf_blight  0.009988  0.033572  0.017635   \n",
       "...            ...                    ...       ...       ...       ...   \n",
       "114472  110381.jpg                 tungro  0.001716  0.109143  0.020722   \n",
       "114473  110381.jpg                 tungro  0.022644  0.137650  0.026389   \n",
       "114474  110381.jpg                 tungro  0.016897  0.072329  0.010469   \n",
       "114475  110381.jpg                 tungro  0.008637  0.114299  0.082281   \n",
       "114476  110381.jpg                 tungro  0.004179  0.099988  0.008320   \n",
       "\n",
       "          pred_3    pred_4    pred_5    pred_6    pred_7        pred_8  \\\n",
       "0       0.002528  0.021895  0.007454  0.001554  0.157142  8.914904e-06   \n",
       "1       0.000110  0.003178  0.000015  0.000131  0.953496  1.555987e-07   \n",
       "2       0.000879  0.007030  0.003382  0.000142  0.659271  3.872871e-07   \n",
       "3       0.000317  0.036005  0.000398  0.000082  0.389901  3.837710e-06   \n",
       "4       0.000032  0.008310  0.000136  0.000041  0.930286  1.554736e-07   \n",
       "...          ...       ...       ...       ...       ...           ...   \n",
       "114472  0.001495  0.845324  0.000177  0.021384  0.000027  6.304998e-06   \n",
       "114473  0.004165  0.788036  0.001093  0.019688  0.000259  3.142513e-05   \n",
       "114474  0.005554  0.789777  0.001240  0.103631  0.000060  1.301366e-05   \n",
       "114475  0.003465  0.560001  0.000741  0.230260  0.000112  1.909918e-04   \n",
       "114476  0.004660  0.822037  0.000663  0.059627  0.000318  1.922170e-04   \n",
       "\n",
       "              pred_9  \n",
       "0       4.559626e-06  \n",
       "1       5.692390e-07  \n",
       "2       2.898941e-07  \n",
       "3       9.339438e-06  \n",
       "4       1.530466e-07  \n",
       "...              ...  \n",
       "114472  6.075803e-06  \n",
       "114473  4.477663e-05  \n",
       "114474  2.972130e-05  \n",
       "114475  1.351225e-05  \n",
       "114476  1.441010e-05  \n",
       "\n",
       "[114477 rows x 12 columns]"
      ]
     },
     "execution_count": 22,
     "metadata": {},
     "output_type": "execute_result"
    }
   ],
   "source": [
    "for i in range(10):\n",
    "    preds['pred_' + str(i)] = oof_pred.data[:,i]\n",
    "    \n",
    "preds"
   ]
  },
  {
   "cell_type": "markdown",
   "metadata": {},
   "source": [
    "We will average forecasts for images by their augmentations:"
   ]
  },
  {
   "cell_type": "code",
   "execution_count": 23,
   "metadata": {},
   "outputs": [
    {
     "data": {
      "text/html": [
       "<div>\n",
       "<style scoped>\n",
       "    .dataframe tbody tr th:only-of-type {\n",
       "        vertical-align: middle;\n",
       "    }\n",
       "\n",
       "    .dataframe tbody tr th {\n",
       "        vertical-align: top;\n",
       "    }\n",
       "\n",
       "    .dataframe thead th {\n",
       "        text-align: right;\n",
       "    }\n",
       "</style>\n",
       "<table border=\"1\" class=\"dataframe\">\n",
       "  <thead>\n",
       "    <tr style=\"text-align: right;\">\n",
       "      <th></th>\n",
       "      <th>image_id</th>\n",
       "      <th>label</th>\n",
       "      <th>pred_0</th>\n",
       "      <th>pred_1</th>\n",
       "      <th>pred_2</th>\n",
       "      <th>pred_3</th>\n",
       "      <th>pred_4</th>\n",
       "      <th>pred_5</th>\n",
       "      <th>pred_6</th>\n",
       "      <th>pred_7</th>\n",
       "      <th>pred_8</th>\n",
       "      <th>pred_9</th>\n",
       "    </tr>\n",
       "  </thead>\n",
       "  <tbody>\n",
       "    <tr>\n",
       "      <th>0</th>\n",
       "      <td>100001.jpg</td>\n",
       "      <td>brown_spot</td>\n",
       "      <td>0.001334</td>\n",
       "      <td>0.000791</td>\n",
       "      <td>0.002372</td>\n",
       "      <td>5.432664e-03</td>\n",
       "      <td>0.005328</td>\n",
       "      <td>0.978495</td>\n",
       "      <td>0.002519</td>\n",
       "      <td>0.003511</td>\n",
       "      <td>7.897679e-05</td>\n",
       "      <td>1.378119e-04</td>\n",
       "    </tr>\n",
       "    <tr>\n",
       "      <th>1</th>\n",
       "      <td>100002.jpg</td>\n",
       "      <td>normal</td>\n",
       "      <td>0.978428</td>\n",
       "      <td>0.011744</td>\n",
       "      <td>0.001621</td>\n",
       "      <td>3.187062e-03</td>\n",
       "      <td>0.002579</td>\n",
       "      <td>0.000282</td>\n",
       "      <td>0.000156</td>\n",
       "      <td>0.001969</td>\n",
       "      <td>3.391063e-05</td>\n",
       "      <td>1.971700e-07</td>\n",
       "    </tr>\n",
       "    <tr>\n",
       "      <th>2</th>\n",
       "      <td>100003.jpg</td>\n",
       "      <td>hispa</td>\n",
       "      <td>0.004639</td>\n",
       "      <td>0.002192</td>\n",
       "      <td>0.992883</td>\n",
       "      <td>1.573081e-07</td>\n",
       "      <td>0.000026</td>\n",
       "      <td>0.000037</td>\n",
       "      <td>0.000005</td>\n",
       "      <td>0.000218</td>\n",
       "      <td>1.920397e-07</td>\n",
       "      <td>1.528186e-07</td>\n",
       "    </tr>\n",
       "    <tr>\n",
       "      <th>3</th>\n",
       "      <td>100004.jpg</td>\n",
       "      <td>blast</td>\n",
       "      <td>0.000259</td>\n",
       "      <td>0.982406</td>\n",
       "      <td>0.004401</td>\n",
       "      <td>7.787708e-03</td>\n",
       "      <td>0.002372</td>\n",
       "      <td>0.002163</td>\n",
       "      <td>0.000173</td>\n",
       "      <td>0.000115</td>\n",
       "      <td>3.223106e-04</td>\n",
       "      <td>4.848040e-07</td>\n",
       "    </tr>\n",
       "    <tr>\n",
       "      <th>4</th>\n",
       "      <td>100005.jpg</td>\n",
       "      <td>hispa</td>\n",
       "      <td>0.010951</td>\n",
       "      <td>0.047475</td>\n",
       "      <td>0.829855</td>\n",
       "      <td>1.200308e-05</td>\n",
       "      <td>0.091933</td>\n",
       "      <td>0.000418</td>\n",
       "      <td>0.018967</td>\n",
       "      <td>0.000370</td>\n",
       "      <td>1.118553e-05</td>\n",
       "      <td>8.759866e-06</td>\n",
       "    </tr>\n",
       "    <tr>\n",
       "      <th>...</th>\n",
       "      <td>...</td>\n",
       "      <td>...</td>\n",
       "      <td>...</td>\n",
       "      <td>...</td>\n",
       "      <td>...</td>\n",
       "      <td>...</td>\n",
       "      <td>...</td>\n",
       "      <td>...</td>\n",
       "      <td>...</td>\n",
       "      <td>...</td>\n",
       "      <td>...</td>\n",
       "      <td>...</td>\n",
       "    </tr>\n",
       "    <tr>\n",
       "      <th>10402</th>\n",
       "      <td>110403.jpg</td>\n",
       "      <td>tungro</td>\n",
       "      <td>0.001664</td>\n",
       "      <td>0.002167</td>\n",
       "      <td>0.007366</td>\n",
       "      <td>4.507852e-03</td>\n",
       "      <td>0.981122</td>\n",
       "      <td>0.000052</td>\n",
       "      <td>0.001666</td>\n",
       "      <td>0.001455</td>\n",
       "      <td>1.527430e-07</td>\n",
       "      <td>3.928369e-07</td>\n",
       "    </tr>\n",
       "    <tr>\n",
       "      <th>10403</th>\n",
       "      <td>110404.jpg</td>\n",
       "      <td>normal</td>\n",
       "      <td>0.932484</td>\n",
       "      <td>0.002359</td>\n",
       "      <td>0.049850</td>\n",
       "      <td>1.244102e-05</td>\n",
       "      <td>0.011696</td>\n",
       "      <td>0.000593</td>\n",
       "      <td>0.002646</td>\n",
       "      <td>0.000304</td>\n",
       "      <td>4.828784e-05</td>\n",
       "      <td>7.773816e-06</td>\n",
       "    </tr>\n",
       "    <tr>\n",
       "      <th>10404</th>\n",
       "      <td>110405.jpg</td>\n",
       "      <td>dead_heart</td>\n",
       "      <td>0.000192</td>\n",
       "      <td>0.000044</td>\n",
       "      <td>0.000152</td>\n",
       "      <td>9.994839e-01</td>\n",
       "      <td>0.000001</td>\n",
       "      <td>0.000025</td>\n",
       "      <td>0.000058</td>\n",
       "      <td>0.000003</td>\n",
       "      <td>1.957294e-06</td>\n",
       "      <td>3.789358e-05</td>\n",
       "    </tr>\n",
       "    <tr>\n",
       "      <th>10405</th>\n",
       "      <td>110406.jpg</td>\n",
       "      <td>blast</td>\n",
       "      <td>0.000226</td>\n",
       "      <td>0.977683</td>\n",
       "      <td>0.000268</td>\n",
       "      <td>9.254745e-03</td>\n",
       "      <td>0.004962</td>\n",
       "      <td>0.000595</td>\n",
       "      <td>0.004523</td>\n",
       "      <td>0.001717</td>\n",
       "      <td>5.624577e-04</td>\n",
       "      <td>2.080105e-04</td>\n",
       "    </tr>\n",
       "    <tr>\n",
       "      <th>10406</th>\n",
       "      <td>110407.jpg</td>\n",
       "      <td>brown_spot</td>\n",
       "      <td>0.000009</td>\n",
       "      <td>0.000188</td>\n",
       "      <td>0.000539</td>\n",
       "      <td>4.357956e-04</td>\n",
       "      <td>0.000232</td>\n",
       "      <td>0.997215</td>\n",
       "      <td>0.000039</td>\n",
       "      <td>0.000010</td>\n",
       "      <td>1.319862e-03</td>\n",
       "      <td>1.372061e-05</td>\n",
       "    </tr>\n",
       "  </tbody>\n",
       "</table>\n",
       "<p>10407 rows × 12 columns</p>\n",
       "</div>"
      ],
      "text/plain": [
       "         image_id       label    pred_0    pred_1    pred_2        pred_3  \\\n",
       "0      100001.jpg  brown_spot  0.001334  0.000791  0.002372  5.432664e-03   \n",
       "1      100002.jpg      normal  0.978428  0.011744  0.001621  3.187062e-03   \n",
       "2      100003.jpg       hispa  0.004639  0.002192  0.992883  1.573081e-07   \n",
       "3      100004.jpg       blast  0.000259  0.982406  0.004401  7.787708e-03   \n",
       "4      100005.jpg       hispa  0.010951  0.047475  0.829855  1.200308e-05   \n",
       "...           ...         ...       ...       ...       ...           ...   \n",
       "10402  110403.jpg      tungro  0.001664  0.002167  0.007366  4.507852e-03   \n",
       "10403  110404.jpg      normal  0.932484  0.002359  0.049850  1.244102e-05   \n",
       "10404  110405.jpg  dead_heart  0.000192  0.000044  0.000152  9.994839e-01   \n",
       "10405  110406.jpg       blast  0.000226  0.977683  0.000268  9.254745e-03   \n",
       "10406  110407.jpg  brown_spot  0.000009  0.000188  0.000539  4.357956e-04   \n",
       "\n",
       "         pred_4    pred_5    pred_6    pred_7        pred_8        pred_9  \n",
       "0      0.005328  0.978495  0.002519  0.003511  7.897679e-05  1.378119e-04  \n",
       "1      0.002579  0.000282  0.000156  0.001969  3.391063e-05  1.971700e-07  \n",
       "2      0.000026  0.000037  0.000005  0.000218  1.920397e-07  1.528186e-07  \n",
       "3      0.002372  0.002163  0.000173  0.000115  3.223106e-04  4.848040e-07  \n",
       "4      0.091933  0.000418  0.018967  0.000370  1.118553e-05  8.759866e-06  \n",
       "...         ...       ...       ...       ...           ...           ...  \n",
       "10402  0.981122  0.000052  0.001666  0.001455  1.527430e-07  3.928369e-07  \n",
       "10403  0.011696  0.000593  0.002646  0.000304  4.828784e-05  7.773816e-06  \n",
       "10404  0.000001  0.000025  0.000058  0.000003  1.957294e-06  3.789358e-05  \n",
       "10405  0.004962  0.000595  0.004523  0.001717  5.624577e-04  2.080105e-04  \n",
       "10406  0.000232  0.997215  0.000039  0.000010  1.319862e-03  1.372061e-05  \n",
       "\n",
       "[10407 rows x 12 columns]"
      ]
     },
     "execution_count": 23,
     "metadata": {},
     "output_type": "execute_result"
    }
   ],
   "source": [
    "preds = preds.groupby(['image_id', 'label']).mean().reset_index()\n",
    "preds"
   ]
  },
  {
   "cell_type": "markdown",
   "metadata": {},
   "source": [
    "Assign classes by maximum class probability:"
   ]
  },
  {
   "cell_type": "code",
   "execution_count": 24,
   "metadata": {},
   "outputs": [
    {
     "data": {
      "text/plain": [
       "array([5, 0, 2, ..., 3, 1, 5])"
      ]
     },
     "execution_count": 24,
     "metadata": {},
     "output_type": "execute_result"
    }
   ],
   "source": [
    "OOFs = np.argmax(preds[['pred_' + str(i) for i in range(10)]].values, axis = 1)\n",
    "OOFs"
   ]
  },
  {
   "cell_type": "markdown",
   "metadata": {},
   "source": [
    "Let's see classification accuracy on train:"
   ]
  },
  {
   "cell_type": "code",
   "execution_count": 25,
   "metadata": {},
   "outputs": [
    {
     "name": "stdout",
     "output_type": "stream",
     "text": [
      "Out-of-fold accuracy: 0.9686749303353512\n"
     ]
    }
   ],
   "source": [
    "accuracy = (OOFs == preds['label'].map(automl.reader.target_mapping)).mean()\n",
    "print(f'Out-of-fold accuracy: {accuracy}')"
   ]
  },
  {
   "cell_type": "markdown",
   "metadata": {},
   "source": [
    "Also to estimate the quality of classification, we can use the confusion matrix:"
   ]
  },
  {
   "cell_type": "code",
   "execution_count": 26,
   "metadata": {},
   "outputs": [
    {
     "data": {
      "image/png": "[encoded data removed]",
      "text/plain": [
       "<Figure size 1000x1000 with 2 Axes>"
      ]
     },
     "metadata": {},
     "output_type": "display_data"
    }
   ],
   "source": [
    "cf_matrix = confusion_matrix(preds['label'].map(automl.reader.target_mapping), \n",
    "                             OOFs)\n",
    "\n",
    "plt.figure(figsize = (10, 10))\n",
    "\n",
    "ax = sns.heatmap(cf_matrix, annot=True, cmap='Blues', fmt = 'd')\n",
    "\n",
    "ax.set_title('Seaborn Confusion Matrix with labels\\n\\n');\n",
    "ax.set_xlabel('\\nPredicted Values')\n",
    "ax.set_ylabel('Actual Values ');\n",
    "\n",
    "inverse_target_mapping = {y: x for x,y in automl.reader.target_mapping.items()}\n",
    "labels = [inverse_target_mapping[i] for i in range(len(inverse_target_mapping))]\n",
    "ax.xaxis.set_ticklabels(labels, rotation = 90)\n",
    "ax.yaxis.set_ticklabels(labels, rotation = 0)\n",
    "\n",
    "plt.show()"
   ]
  },
  {
   "cell_type": "markdown",
   "metadata": {},
   "source": [
    "## Predict for test dataset"
   ]
  },
  {
   "cell_type": "markdown",
   "metadata": {},
   "source": [
    "\n",
    "Now we are also ready to predict for our test competition dataset and submission file creation:"
   ]
  },
  {
   "cell_type": "code",
   "execution_count": 27,
   "metadata": {
    "execution": {
     "iopub.execute_input": "2022-06-09T09:09:32.435193Z",
     "iopub.status.busy": "2022-06-09T09:09:32.433387Z",
     "iopub.status.idle": "2022-06-09T09:09:32.938864Z",
     "shell.execute_reply": "2022-06-09T09:09:32.937616Z",
     "shell.execute_reply.started": "2022-06-09T09:09:32.435125Z"
    }
   },
   "outputs": [
    {
     "name": "stderr",
     "output_type": "stream",
     "text": [
      "100%|██████████| 163/163 [01:28<00:00,  1.84it/s]\n"
     ]
    },
    {
     "name": "stdout",
     "output_type": "stream",
     "text": [
      "[14:28:22] Feature path transformed\n",
      "Prediction for te_data:\n",
      "array([[1.57098308e-01, 2.81519257e-03, 5.96348643e-01, ...,\n",
      "        1.08084995e-02, 1.95845146e-07, 1.42198633e-05],\n",
      "       [9.83384371e-01, 6.52049668e-04, 1.45791359e-02, ...,\n",
      "        1.12365209e-03, 9.75986836e-07, 1.95965598e-07],\n",
      "       [1.68020770e-01, 3.79674375e-01, 1.86414778e-01, ...,\n",
      "        1.67078048e-03, 1.21877249e-03, 3.75247910e-03],\n",
      "       ...,\n",
      "       [1.05072348e-03, 1.24680300e-05, 5.70231769e-03, ...,\n",
      "        4.37476301e-05, 1.52421890e-07, 1.81421214e-07],\n",
      "       [6.52685121e-04, 4.47798493e-06, 5.04824053e-03, ...,\n",
      "        2.13344283e-05, 1.52417726e-07, 1.62638599e-07],\n",
      "       [1.57185504e-03, 1.01540554e-05, 2.53849756e-02, ...,\n",
      "        1.17763964e-04, 1.52426963e-07, 1.77946404e-07]], dtype=float32)\n",
      "Shape = (20814, 10)\n",
      "CPU times: user 55.8 s, sys: 21.6 s, total: 1min 17s\n",
      "Wall time: 2min 19s\n"
     ]
    }
   ],
   "source": [
    "%%time\n",
    "\n",
    "te_pred = automl.predict(submission)\n",
    "print(f'Prediction for te_data:\\n{te_pred}\\nShape = {te_pred.shape}')"
   ]
  },
  {
   "cell_type": "code",
   "execution_count": 28,
   "metadata": {},
   "outputs": [
    {
     "name": "stderr",
     "output_type": "stream",
     "text": [
      "/tmp/ipykernel_12895/1185757098.py:3: SettingWithCopyWarning: \n",
      "A value is trying to be set on a copy of a slice from a DataFrame.\n",
      "Try using .loc[row_indexer,col_indexer] = value instead\n",
      "\n",
      "See the caveats in the documentation: https://pandas.pydata.org/pandas-docs/stable/user_guide/indexing.html#returning-a-view-versus-a-copy\n",
      "  sub['pred_' + str(i)] = te_pred.data[:,i]\n"
     ]
    },
    {
     "data": {
      "text/html": [
       "<div>\n",
       "<style scoped>\n",
       "    .dataframe tbody tr th:only-of-type {\n",
       "        vertical-align: middle;\n",
       "    }\n",
       "\n",
       "    .dataframe tbody tr th {\n",
       "        vertical-align: top;\n",
       "    }\n",
       "\n",
       "    .dataframe thead th {\n",
       "        text-align: right;\n",
       "    }\n",
       "</style>\n",
       "<table border=\"1\" class=\"dataframe\">\n",
       "  <thead>\n",
       "    <tr style=\"text-align: right;\">\n",
       "      <th></th>\n",
       "      <th>image_id</th>\n",
       "      <th>pred_0</th>\n",
       "      <th>pred_1</th>\n",
       "      <th>pred_2</th>\n",
       "      <th>pred_3</th>\n",
       "      <th>pred_4</th>\n",
       "      <th>pred_5</th>\n",
       "      <th>pred_6</th>\n",
       "      <th>pred_7</th>\n",
       "      <th>pred_8</th>\n",
       "      <th>pred_9</th>\n",
       "    </tr>\n",
       "  </thead>\n",
       "  <tbody>\n",
       "    <tr>\n",
       "      <th>0</th>\n",
       "      <td>200001.jpg</td>\n",
       "      <td>0.157098</td>\n",
       "      <td>0.002815</td>\n",
       "      <td>0.596349</td>\n",
       "      <td>0.020590</td>\n",
       "      <td>1.148577e-01</td>\n",
       "      <td>0.095614</td>\n",
       "      <td>0.001854</td>\n",
       "      <td>0.010808</td>\n",
       "      <td>1.958451e-07</td>\n",
       "      <td>1.421986e-05</td>\n",
       "    </tr>\n",
       "    <tr>\n",
       "      <th>1</th>\n",
       "      <td>200002.jpg</td>\n",
       "      <td>0.983384</td>\n",
       "      <td>0.000652</td>\n",
       "      <td>0.014579</td>\n",
       "      <td>0.000139</td>\n",
       "      <td>6.825896e-05</td>\n",
       "      <td>0.000044</td>\n",
       "      <td>0.000008</td>\n",
       "      <td>0.001124</td>\n",
       "      <td>9.759868e-07</td>\n",
       "      <td>1.959656e-07</td>\n",
       "    </tr>\n",
       "    <tr>\n",
       "      <th>2</th>\n",
       "      <td>200003.jpg</td>\n",
       "      <td>0.168021</td>\n",
       "      <td>0.379674</td>\n",
       "      <td>0.186415</td>\n",
       "      <td>0.000225</td>\n",
       "      <td>1.850213e-03</td>\n",
       "      <td>0.036919</td>\n",
       "      <td>0.220253</td>\n",
       "      <td>0.001671</td>\n",
       "      <td>1.218772e-03</td>\n",
       "      <td>3.752479e-03</td>\n",
       "    </tr>\n",
       "    <tr>\n",
       "      <th>3</th>\n",
       "      <td>200004.jpg</td>\n",
       "      <td>0.000013</td>\n",
       "      <td>0.990730</td>\n",
       "      <td>0.008530</td>\n",
       "      <td>0.000097</td>\n",
       "      <td>1.116415e-04</td>\n",
       "      <td>0.000215</td>\n",
       "      <td>0.000111</td>\n",
       "      <td>0.000037</td>\n",
       "      <td>1.548404e-04</td>\n",
       "      <td>1.946677e-07</td>\n",
       "    </tr>\n",
       "    <tr>\n",
       "      <th>4</th>\n",
       "      <td>200005.jpg</td>\n",
       "      <td>0.000340</td>\n",
       "      <td>0.999536</td>\n",
       "      <td>0.000031</td>\n",
       "      <td>0.000002</td>\n",
       "      <td>6.857538e-07</td>\n",
       "      <td>0.000003</td>\n",
       "      <td>0.000007</td>\n",
       "      <td>0.000029</td>\n",
       "      <td>5.404088e-07</td>\n",
       "      <td>4.985940e-05</td>\n",
       "    </tr>\n",
       "    <tr>\n",
       "      <th>...</th>\n",
       "      <td>...</td>\n",
       "      <td>...</td>\n",
       "      <td>...</td>\n",
       "      <td>...</td>\n",
       "      <td>...</td>\n",
       "      <td>...</td>\n",
       "      <td>...</td>\n",
       "      <td>...</td>\n",
       "      <td>...</td>\n",
       "      <td>...</td>\n",
       "      <td>...</td>\n",
       "    </tr>\n",
       "    <tr>\n",
       "      <th>20809</th>\n",
       "      <td>203469.jpg</td>\n",
       "      <td>0.003061</td>\n",
       "      <td>0.000017</td>\n",
       "      <td>0.041731</td>\n",
       "      <td>0.943745</td>\n",
       "      <td>1.648944e-04</td>\n",
       "      <td>0.010877</td>\n",
       "      <td>0.000146</td>\n",
       "      <td>0.000258</td>\n",
       "      <td>1.524480e-07</td>\n",
       "      <td>2.509265e-07</td>\n",
       "    </tr>\n",
       "    <tr>\n",
       "      <th>20810</th>\n",
       "      <td>203469.jpg</td>\n",
       "      <td>0.000430</td>\n",
       "      <td>0.000003</td>\n",
       "      <td>0.002508</td>\n",
       "      <td>0.993409</td>\n",
       "      <td>2.613632e-05</td>\n",
       "      <td>0.003580</td>\n",
       "      <td>0.000007</td>\n",
       "      <td>0.000036</td>\n",
       "      <td>1.524176e-07</td>\n",
       "      <td>1.595918e-07</td>\n",
       "    </tr>\n",
       "    <tr>\n",
       "      <th>20811</th>\n",
       "      <td>203469.jpg</td>\n",
       "      <td>0.001051</td>\n",
       "      <td>0.000012</td>\n",
       "      <td>0.005702</td>\n",
       "      <td>0.989972</td>\n",
       "      <td>5.734707e-05</td>\n",
       "      <td>0.003144</td>\n",
       "      <td>0.000018</td>\n",
       "      <td>0.000044</td>\n",
       "      <td>1.524219e-07</td>\n",
       "      <td>1.814212e-07</td>\n",
       "    </tr>\n",
       "    <tr>\n",
       "      <th>20812</th>\n",
       "      <td>203469.jpg</td>\n",
       "      <td>0.000653</td>\n",
       "      <td>0.000004</td>\n",
       "      <td>0.005048</td>\n",
       "      <td>0.990724</td>\n",
       "      <td>3.223727e-05</td>\n",
       "      <td>0.003505</td>\n",
       "      <td>0.000012</td>\n",
       "      <td>0.000021</td>\n",
       "      <td>1.524177e-07</td>\n",
       "      <td>1.626386e-07</td>\n",
       "    </tr>\n",
       "    <tr>\n",
       "      <th>20813</th>\n",
       "      <td>203469.jpg</td>\n",
       "      <td>0.001572</td>\n",
       "      <td>0.000010</td>\n",
       "      <td>0.025385</td>\n",
       "      <td>0.965282</td>\n",
       "      <td>1.030424e-04</td>\n",
       "      <td>0.007472</td>\n",
       "      <td>0.000058</td>\n",
       "      <td>0.000118</td>\n",
       "      <td>1.524270e-07</td>\n",
       "      <td>1.779464e-07</td>\n",
       "    </tr>\n",
       "  </tbody>\n",
       "</table>\n",
       "<p>20814 rows × 11 columns</p>\n",
       "</div>"
      ],
      "text/plain": [
       "         image_id    pred_0    pred_1    pred_2    pred_3        pred_4  \\\n",
       "0      200001.jpg  0.157098  0.002815  0.596349  0.020590  1.148577e-01   \n",
       "1      200002.jpg  0.983384  0.000652  0.014579  0.000139  6.825896e-05   \n",
       "2      200003.jpg  0.168021  0.379674  0.186415  0.000225  1.850213e-03   \n",
       "3      200004.jpg  0.000013  0.990730  0.008530  0.000097  1.116415e-04   \n",
       "4      200005.jpg  0.000340  0.999536  0.000031  0.000002  6.857538e-07   \n",
       "...           ...       ...       ...       ...       ...           ...   \n",
       "20809  203469.jpg  0.003061  0.000017  0.041731  0.943745  1.648944e-04   \n",
       "20810  203469.jpg  0.000430  0.000003  0.002508  0.993409  2.613632e-05   \n",
       "20811  203469.jpg  0.001051  0.000012  0.005702  0.989972  5.734707e-05   \n",
       "20812  203469.jpg  0.000653  0.000004  0.005048  0.990724  3.223727e-05   \n",
       "20813  203469.jpg  0.001572  0.000010  0.025385  0.965282  1.030424e-04   \n",
       "\n",
       "         pred_5    pred_6    pred_7        pred_8        pred_9  \n",
       "0      0.095614  0.001854  0.010808  1.958451e-07  1.421986e-05  \n",
       "1      0.000044  0.000008  0.001124  9.759868e-07  1.959656e-07  \n",
       "2      0.036919  0.220253  0.001671  1.218772e-03  3.752479e-03  \n",
       "3      0.000215  0.000111  0.000037  1.548404e-04  1.946677e-07  \n",
       "4      0.000003  0.000007  0.000029  5.404088e-07  4.985940e-05  \n",
       "...         ...       ...       ...           ...           ...  \n",
       "20809  0.010877  0.000146  0.000258  1.524480e-07  2.509265e-07  \n",
       "20810  0.003580  0.000007  0.000036  1.524176e-07  1.595918e-07  \n",
       "20811  0.003144  0.000018  0.000044  1.524219e-07  1.814212e-07  \n",
       "20812  0.003505  0.000012  0.000021  1.524177e-07  1.626386e-07  \n",
       "20813  0.007472  0.000058  0.000118  1.524270e-07  1.779464e-07  \n",
       "\n",
       "[20814 rows x 11 columns]"
      ]
     },
     "execution_count": 28,
     "metadata": {},
     "output_type": "execute_result"
    }
   ],
   "source": [
    "sub = submission[['image_id']]\n",
    "for i in range(10):\n",
    "    sub['pred_' + str(i)] = te_pred.data[:,i]\n",
    "    \n",
    "sub"
   ]
  },
  {
   "cell_type": "code",
   "execution_count": 29,
   "metadata": {},
   "outputs": [
    {
     "data": {
      "text/html": [
       "<div>\n",
       "<style scoped>\n",
       "    .dataframe tbody tr th:only-of-type {\n",
       "        vertical-align: middle;\n",
       "    }\n",
       "\n",
       "    .dataframe tbody tr th {\n",
       "        vertical-align: top;\n",
       "    }\n",
       "\n",
       "    .dataframe thead th {\n",
       "        text-align: right;\n",
       "    }\n",
       "</style>\n",
       "<table border=\"1\" class=\"dataframe\">\n",
       "  <thead>\n",
       "    <tr style=\"text-align: right;\">\n",
       "      <th></th>\n",
       "      <th>image_id</th>\n",
       "      <th>pred_0</th>\n",
       "      <th>pred_1</th>\n",
       "      <th>pred_2</th>\n",
       "      <th>pred_3</th>\n",
       "      <th>pred_4</th>\n",
       "      <th>pred_5</th>\n",
       "      <th>pred_6</th>\n",
       "      <th>pred_7</th>\n",
       "      <th>pred_8</th>\n",
       "      <th>pred_9</th>\n",
       "    </tr>\n",
       "  </thead>\n",
       "  <tbody>\n",
       "    <tr>\n",
       "      <th>0</th>\n",
       "      <td>200001.jpg</td>\n",
       "      <td>0.127650</td>\n",
       "      <td>0.001409</td>\n",
       "      <td>0.599914</td>\n",
       "      <td>0.017568</td>\n",
       "      <td>0.136898</td>\n",
       "      <td>0.106915</td>\n",
       "      <td>0.001796</td>\n",
       "      <td>0.007829</td>\n",
       "      <td>8.801418e-06</td>\n",
       "      <td>1.216593e-05</td>\n",
       "    </tr>\n",
       "    <tr>\n",
       "      <th>1</th>\n",
       "      <td>200002.jpg</td>\n",
       "      <td>0.937035</td>\n",
       "      <td>0.000638</td>\n",
       "      <td>0.060420</td>\n",
       "      <td>0.000098</td>\n",
       "      <td>0.000105</td>\n",
       "      <td>0.000096</td>\n",
       "      <td>0.000016</td>\n",
       "      <td>0.001586</td>\n",
       "      <td>6.087082e-06</td>\n",
       "      <td>2.249314e-07</td>\n",
       "    </tr>\n",
       "    <tr>\n",
       "      <th>2</th>\n",
       "      <td>200003.jpg</td>\n",
       "      <td>0.120163</td>\n",
       "      <td>0.523312</td>\n",
       "      <td>0.106169</td>\n",
       "      <td>0.000473</td>\n",
       "      <td>0.000748</td>\n",
       "      <td>0.042688</td>\n",
       "      <td>0.201373</td>\n",
       "      <td>0.002807</td>\n",
       "      <td>1.389023e-03</td>\n",
       "      <td>8.788786e-04</td>\n",
       "    </tr>\n",
       "    <tr>\n",
       "      <th>3</th>\n",
       "      <td>200004.jpg</td>\n",
       "      <td>0.000020</td>\n",
       "      <td>0.888623</td>\n",
       "      <td>0.006415</td>\n",
       "      <td>0.001150</td>\n",
       "      <td>0.000430</td>\n",
       "      <td>0.004390</td>\n",
       "      <td>0.000616</td>\n",
       "      <td>0.001799</td>\n",
       "      <td>9.654120e-02</td>\n",
       "      <td>1.466518e-05</td>\n",
       "    </tr>\n",
       "    <tr>\n",
       "      <th>4</th>\n",
       "      <td>200005.jpg</td>\n",
       "      <td>0.000680</td>\n",
       "      <td>0.998898</td>\n",
       "      <td>0.000085</td>\n",
       "      <td>0.000009</td>\n",
       "      <td>0.000001</td>\n",
       "      <td>0.000002</td>\n",
       "      <td>0.000021</td>\n",
       "      <td>0.000172</td>\n",
       "      <td>1.743805e-06</td>\n",
       "      <td>1.304403e-04</td>\n",
       "    </tr>\n",
       "    <tr>\n",
       "      <th>...</th>\n",
       "      <td>...</td>\n",
       "      <td>...</td>\n",
       "      <td>...</td>\n",
       "      <td>...</td>\n",
       "      <td>...</td>\n",
       "      <td>...</td>\n",
       "      <td>...</td>\n",
       "      <td>...</td>\n",
       "      <td>...</td>\n",
       "      <td>...</td>\n",
       "      <td>...</td>\n",
       "    </tr>\n",
       "    <tr>\n",
       "      <th>3464</th>\n",
       "      <td>203465.jpg</td>\n",
       "      <td>0.000224</td>\n",
       "      <td>0.002143</td>\n",
       "      <td>0.001514</td>\n",
       "      <td>0.990281</td>\n",
       "      <td>0.002657</td>\n",
       "      <td>0.000401</td>\n",
       "      <td>0.001074</td>\n",
       "      <td>0.000134</td>\n",
       "      <td>1.530934e-03</td>\n",
       "      <td>4.091801e-05</td>\n",
       "    </tr>\n",
       "    <tr>\n",
       "      <th>3465</th>\n",
       "      <td>203466.jpg</td>\n",
       "      <td>0.250769</td>\n",
       "      <td>0.007148</td>\n",
       "      <td>0.741840</td>\n",
       "      <td>0.000002</td>\n",
       "      <td>0.000022</td>\n",
       "      <td>0.000013</td>\n",
       "      <td>0.000076</td>\n",
       "      <td>0.000129</td>\n",
       "      <td>2.629060e-07</td>\n",
       "      <td>2.120279e-07</td>\n",
       "    </tr>\n",
       "    <tr>\n",
       "      <th>3466</th>\n",
       "      <td>203467.jpg</td>\n",
       "      <td>0.960745</td>\n",
       "      <td>0.004105</td>\n",
       "      <td>0.001135</td>\n",
       "      <td>0.000646</td>\n",
       "      <td>0.016724</td>\n",
       "      <td>0.008584</td>\n",
       "      <td>0.000062</td>\n",
       "      <td>0.007749</td>\n",
       "      <td>2.438365e-04</td>\n",
       "      <td>6.326832e-06</td>\n",
       "    </tr>\n",
       "    <tr>\n",
       "      <th>3467</th>\n",
       "      <td>203468.jpg</td>\n",
       "      <td>0.003675</td>\n",
       "      <td>0.001097</td>\n",
       "      <td>0.038018</td>\n",
       "      <td>0.000038</td>\n",
       "      <td>0.000483</td>\n",
       "      <td>0.000310</td>\n",
       "      <td>0.000223</td>\n",
       "      <td>0.000208</td>\n",
       "      <td>9.551883e-01</td>\n",
       "      <td>7.596347e-04</td>\n",
       "    </tr>\n",
       "    <tr>\n",
       "      <th>3468</th>\n",
       "      <td>203469.jpg</td>\n",
       "      <td>0.001372</td>\n",
       "      <td>0.000012</td>\n",
       "      <td>0.015432</td>\n",
       "      <td>0.977533</td>\n",
       "      <td>0.000086</td>\n",
       "      <td>0.005415</td>\n",
       "      <td>0.000046</td>\n",
       "      <td>0.000104</td>\n",
       "      <td>1.524300e-07</td>\n",
       "      <td>1.962799e-07</td>\n",
       "    </tr>\n",
       "  </tbody>\n",
       "</table>\n",
       "<p>3469 rows × 11 columns</p>\n",
       "</div>"
      ],
      "text/plain": [
       "        image_id    pred_0    pred_1    pred_2    pred_3    pred_4    pred_5  \\\n",
       "0     200001.jpg  0.127650  0.001409  0.599914  0.017568  0.136898  0.106915   \n",
       "1     200002.jpg  0.937035  0.000638  0.060420  0.000098  0.000105  0.000096   \n",
       "2     200003.jpg  0.120163  0.523312  0.106169  0.000473  0.000748  0.042688   \n",
       "3     200004.jpg  0.000020  0.888623  0.006415  0.001150  0.000430  0.004390   \n",
       "4     200005.jpg  0.000680  0.998898  0.000085  0.000009  0.000001  0.000002   \n",
       "...          ...       ...       ...       ...       ...       ...       ...   \n",
       "3464  203465.jpg  0.000224  0.002143  0.001514  0.990281  0.002657  0.000401   \n",
       "3465  203466.jpg  0.250769  0.007148  0.741840  0.000002  0.000022  0.000013   \n",
       "3466  203467.jpg  0.960745  0.004105  0.001135  0.000646  0.016724  0.008584   \n",
       "3467  203468.jpg  0.003675  0.001097  0.038018  0.000038  0.000483  0.000310   \n",
       "3468  203469.jpg  0.001372  0.000012  0.015432  0.977533  0.000086  0.005415   \n",
       "\n",
       "        pred_6    pred_7        pred_8        pred_9  \n",
       "0     0.001796  0.007829  8.801418e-06  1.216593e-05  \n",
       "1     0.000016  0.001586  6.087082e-06  2.249314e-07  \n",
       "2     0.201373  0.002807  1.389023e-03  8.788786e-04  \n",
       "3     0.000616  0.001799  9.654120e-02  1.466518e-05  \n",
       "4     0.000021  0.000172  1.743805e-06  1.304403e-04  \n",
       "...        ...       ...           ...           ...  \n",
       "3464  0.001074  0.000134  1.530934e-03  4.091801e-05  \n",
       "3465  0.000076  0.000129  2.629060e-07  2.120279e-07  \n",
       "3466  0.000062  0.007749  2.438365e-04  6.326832e-06  \n",
       "3467  0.000223  0.000208  9.551883e-01  7.596347e-04  \n",
       "3468  0.000046  0.000104  1.524300e-07  1.962799e-07  \n",
       "\n",
       "[3469 rows x 11 columns]"
      ]
     },
     "execution_count": 29,
     "metadata": {},
     "output_type": "execute_result"
    }
   ],
   "source": [
    "sub = sub.groupby(['image_id']).mean().reset_index()\n",
    "sub"
   ]
  },
  {
   "cell_type": "code",
   "execution_count": 30,
   "metadata": {},
   "outputs": [
    {
     "data": {
      "text/plain": [
       "0                       hispa\n",
       "1                      normal\n",
       "2                       blast\n",
       "3                       blast\n",
       "4                       blast\n",
       "                ...          \n",
       "3464               dead_heart\n",
       "3465                    hispa\n",
       "3466                   normal\n",
       "3467    bacterial_leaf_streak\n",
       "3468               dead_heart\n",
       "Length: 3469, dtype: object"
      ]
     },
     "execution_count": 30,
     "metadata": {},
     "output_type": "execute_result"
    }
   ],
   "source": [
    "TEs = pd.Series(np.argmax(sub[['pred_' + str(i) for i in range(10)]].values, axis = 1)).map(inverse_target_mapping)\n",
    "TEs"
   ]
  },
  {
   "cell_type": "code",
   "execution_count": 31,
   "metadata": {
    "execution": {
     "iopub.execute_input": "2022-06-09T09:09:41.251065Z",
     "iopub.status.busy": "2022-06-09T09:09:41.248709Z",
     "iopub.status.idle": "2022-06-09T09:09:41.295972Z",
     "shell.execute_reply": "2022-06-09T09:09:41.295126Z",
     "shell.execute_reply.started": "2022-06-09T09:09:41.251007Z"
    }
   },
   "outputs": [
    {
     "data": {
      "text/html": [
       "<div>\n",
       "<style scoped>\n",
       "    .dataframe tbody tr th:only-of-type {\n",
       "        vertical-align: middle;\n",
       "    }\n",
       "\n",
       "    .dataframe tbody tr th {\n",
       "        vertical-align: top;\n",
       "    }\n",
       "\n",
       "    .dataframe thead th {\n",
       "        text-align: right;\n",
       "    }\n",
       "</style>\n",
       "<table border=\"1\" class=\"dataframe\">\n",
       "  <thead>\n",
       "    <tr style=\"text-align: right;\">\n",
       "      <th></th>\n",
       "      <th>image_id</th>\n",
       "      <th>label</th>\n",
       "    </tr>\n",
       "  </thead>\n",
       "  <tbody>\n",
       "    <tr>\n",
       "      <th>0</th>\n",
       "      <td>200001.jpg</td>\n",
       "      <td>hispa</td>\n",
       "    </tr>\n",
       "    <tr>\n",
       "      <th>1</th>\n",
       "      <td>200002.jpg</td>\n",
       "      <td>normal</td>\n",
       "    </tr>\n",
       "    <tr>\n",
       "      <th>2</th>\n",
       "      <td>200003.jpg</td>\n",
       "      <td>blast</td>\n",
       "    </tr>\n",
       "    <tr>\n",
       "      <th>3</th>\n",
       "      <td>200004.jpg</td>\n",
       "      <td>blast</td>\n",
       "    </tr>\n",
       "    <tr>\n",
       "      <th>4</th>\n",
       "      <td>200005.jpg</td>\n",
       "      <td>blast</td>\n",
       "    </tr>\n",
       "    <tr>\n",
       "      <th>...</th>\n",
       "      <td>...</td>\n",
       "      <td>...</td>\n",
       "    </tr>\n",
       "    <tr>\n",
       "      <th>3464</th>\n",
       "      <td>203465.jpg</td>\n",
       "      <td>dead_heart</td>\n",
       "    </tr>\n",
       "    <tr>\n",
       "      <th>3465</th>\n",
       "      <td>203466.jpg</td>\n",
       "      <td>hispa</td>\n",
       "    </tr>\n",
       "    <tr>\n",
       "      <th>3466</th>\n",
       "      <td>203467.jpg</td>\n",
       "      <td>normal</td>\n",
       "    </tr>\n",
       "    <tr>\n",
       "      <th>3467</th>\n",
       "      <td>203468.jpg</td>\n",
       "      <td>bacterial_leaf_streak</td>\n",
       "    </tr>\n",
       "    <tr>\n",
       "      <th>3468</th>\n",
       "      <td>203469.jpg</td>\n",
       "      <td>dead_heart</td>\n",
       "    </tr>\n",
       "  </tbody>\n",
       "</table>\n",
       "<p>3469 rows × 2 columns</p>\n",
       "</div>"
      ],
      "text/plain": [
       "        image_id                  label\n",
       "0     200001.jpg                  hispa\n",
       "1     200002.jpg                 normal\n",
       "2     200003.jpg                  blast\n",
       "3     200004.jpg                  blast\n",
       "4     200005.jpg                  blast\n",
       "...          ...                    ...\n",
       "3464  203465.jpg             dead_heart\n",
       "3465  203466.jpg                  hispa\n",
       "3466  203467.jpg                 normal\n",
       "3467  203468.jpg  bacterial_leaf_streak\n",
       "3468  203469.jpg             dead_heart\n",
       "\n",
       "[3469 rows x 2 columns]"
      ]
     },
     "execution_count": 31,
     "metadata": {},
     "output_type": "execute_result"
    }
   ],
   "source": [
    "sub['label'] = TEs\n",
    "sub[['image_id', 'label']].to_csv('LightAutoML_TabularCVAutoML_with_aug.csv', index = False)\n",
    "sub[['image_id', 'label']]"
   ]
  },
  {
   "attachments": {},
   "cell_type": "markdown",
   "metadata": {},
   "source": [
    "### Now we can choose another model from ```timm```. So we will use ```tf_efficientnetv2_b0.in1k```, by default it uses ```vit_base_patch16_224.augreg_in21k```"
   ]
  },
  {
   "cell_type": "code",
   "execution_count": 35,
   "metadata": {},
   "outputs": [],
   "source": [
    "automl = TabularCVAutoML(task = task,\n",
    "                         timeout=5 * 3600,\n",
    "                         autocv_features={\"embed_model\": 'timm/tf_efficientnetv2_b0.in1k'},\n",
    "                        cpu_limit = 2,\n",
    "                        reader_params = {'cv': 5, 'random_state': 42})"
   ]
  },
  {
   "cell_type": "code",
   "execution_count": 36,
   "metadata": {},
   "outputs": [
    {
     "name": "stdout",
     "output_type": "stream",
     "text": [
      "[14:37:43] Stdout logging level is INFO3.\n",
      "[14:37:43] Task: multiclass\n",
      "\n",
      "[14:37:43] Start automl preset with listed constraints:\n",
      "[14:37:43] - time: 18000.00 seconds\n",
      "[14:37:43] - CPU: 2 cores\n",
      "[14:37:43] - memory: 16 GB\n",
      "\n",
      "[14:37:43] \u001b[1mTrain data shape: (114477, 5)\u001b[0m\n",
      "\n",
      "[14:37:43] Layer \u001b[1m1\u001b[0m train process start. Time left 17999.80 secs\n"
     ]
    },
    {
     "data": {
      "application/vnd.jupyter.widget-view+json": {
       "model_id": "2795cb31118c42a8a3c0753468f54c4a",
       "version_major": 2,
       "version_minor": 0
      },
      "text/plain": [
       "Downloading model.safetensors:   0%|          | 0.00/28.8M [00:00<?, ?B/s]"
      ]
     },
     "metadata": {},
     "output_type": "display_data"
    },
    {
     "name": "stderr",
     "output_type": "stream",
     "text": [
      "100%|██████████| 895/895 [06:43<00:00,  2.22it/s]\n"
     ]
    },
    {
     "name": "stdout",
     "output_type": "stream",
     "text": [
      "[14:44:31] Feature path transformed\n",
      "[14:44:41] Start fitting \u001b[1mLvl_0_Pipe_0_Mod_0_LinearL2\u001b[0m ...\n",
      "[14:44:41] ===== Start working with \u001b[1mfold 0\u001b[0m for \u001b[1mLvl_0_Pipe_0_Mod_0_LinearL2\u001b[0m =====\n",
      "[14:44:53] Linear model: C = 1e-05 score = -1.2282992628176856\n",
      "[14:45:04] Linear model: C = 5e-05 score = -0.9078946864858105\n",
      "[14:45:14] Linear model: C = 0.0001 score = -0.7903223383077203\n",
      "[14:45:25] Linear model: C = 0.0005 score = -0.5805263796419443\n",
      "[14:45:37] Linear model: C = 0.001 score = -0.5191830537228186\n",
      "[14:45:48] Linear model: C = 0.005 score = -0.44237800607788724\n",
      "[14:46:01] Linear model: C = 0.01 score = -0.4332587963951451\n",
      "[14:46:16] Linear model: C = 0.05 score = -0.4659824021930572\n",
      "[14:46:28] Linear model: C = 0.1 score = -0.49696980356910764\n",
      "[14:46:29] ===== Start working with \u001b[1mfold 1\u001b[0m for \u001b[1mLvl_0_Pipe_0_Mod_0_LinearL2\u001b[0m =====\n",
      "[14:46:40] Linear model: C = 1e-05 score = -1.1941203869888553\n",
      "[14:46:50] Linear model: C = 5e-05 score = -0.870315687726058\n",
      "[14:47:00] Linear model: C = 0.0001 score = -0.7542737074009194\n",
      "[14:47:11] Linear model: C = 0.0005 score = -0.5565397834768919\n",
      "[14:47:23] Linear model: C = 0.001 score = -0.5021799803891854\n",
      "[14:47:37] Linear model: C = 0.005 score = -0.4375446715586552\n",
      "[14:47:49] Linear model: C = 0.01 score = -0.4337117229695793\n",
      "[14:48:03] Linear model: C = 0.05 score = -0.47678539878379567\n",
      "[14:48:16] Linear model: C = 0.1 score = -0.5100193461879381\n",
      "[14:48:16] ===== Start working with \u001b[1mfold 2\u001b[0m for \u001b[1mLvl_0_Pipe_0_Mod_0_LinearL2\u001b[0m =====\n",
      "[14:48:27] Linear model: C = 1e-05 score = -1.1828501053814764\n",
      "[14:48:39] Linear model: C = 5e-05 score = -0.8603329618510173\n",
      "[14:48:48] Linear model: C = 0.0001 score = -0.7451147263666518\n",
      "[14:48:59] Linear model: C = 0.0005 score = -0.5469582228988039\n",
      "[14:49:12] Linear model: C = 0.001 score = -0.49160247842297417\n",
      "[14:49:24] Linear model: C = 0.005 score = -0.4257572256164155\n",
      "[14:49:37] Linear model: C = 0.01 score = -0.4188241529929714\n",
      "[14:49:50] Linear model: C = 0.05 score = -0.4522382557188784\n",
      "[14:50:03] Linear model: C = 0.1 score = -0.48277984079191094\n",
      "[14:50:04] ===== Start working with \u001b[1mfold 3\u001b[0m for \u001b[1mLvl_0_Pipe_0_Mod_0_LinearL2\u001b[0m =====\n",
      "[14:50:15] Linear model: C = 1e-05 score = -1.1958343845422246\n",
      "[14:50:26] Linear model: C = 5e-05 score = -0.878725101433787\n",
      "[14:50:35] Linear model: C = 0.0001 score = -0.7660166437189271\n",
      "[14:50:45] Linear model: C = 0.0005 score = -0.5679153687919936\n",
      "[14:50:59] Linear model: C = 0.001 score = -0.5110457138416219\n",
      "[14:51:10] Linear model: C = 0.005 score = -0.44229320617124224\n",
      "[14:51:23] Linear model: C = 0.01 score = -0.43663952743918066\n",
      "[14:51:37] Linear model: C = 0.05 score = -0.47363171137894655\n",
      "[14:51:51] Linear model: C = 0.1 score = -0.5032655687259646\n",
      "[14:51:51] ===== Start working with \u001b[1mfold 4\u001b[0m for \u001b[1mLvl_0_Pipe_0_Mod_0_LinearL2\u001b[0m =====\n",
      "[14:52:02] Linear model: C = 1e-05 score = -1.1804715353776323\n",
      "[14:52:13] Linear model: C = 5e-05 score = -0.8529105474280552\n",
      "[14:52:21] Linear model: C = 0.0001 score = -0.7373622302487922\n",
      "[14:52:32] Linear model: C = 0.0005 score = -0.537561225715503\n",
      "[14:52:43] Linear model: C = 0.001 score = -0.48106564988541606\n",
      "[14:52:57] Linear model: C = 0.005 score = -0.4138154861612588\n",
      "[14:53:09] Linear model: C = 0.01 score = -0.40990101492044817\n",
      "[14:53:23] Linear model: C = 0.05 score = -0.44904189928940963\n",
      "[14:53:36] Linear model: C = 0.1 score = -0.4789966864522385\n",
      "[14:53:36] Fitting \u001b[1mLvl_0_Pipe_0_Mod_0_LinearL2\u001b[0m finished. score = \u001b[1m-0.4264683916927181\u001b[0m\n",
      "[14:53:36] \u001b[1mLvl_0_Pipe_0_Mod_0_LinearL2\u001b[0m fitting and predicting completed\n",
      "[14:53:36] Time left 17046.53 secs\n",
      "\n",
      "[14:58:02] Start fitting \u001b[1mLvl_0_Pipe_1_Mod_0_CatBoost\u001b[0m ...\n",
      "[14:58:02] ===== Start working with \u001b[1mfold 0\u001b[0m for \u001b[1mLvl_0_Pipe_1_Mod_0_CatBoost\u001b[0m =====\n",
      "[14:58:02] 0:\tlearn: 2.2636799\ttest: 2.2649651\tbest: 2.2649651 (0)\ttotal: 10.4ms\tremaining: 41.6s\n",
      "[14:58:22] bestTest = 0.2436411292\n",
      "[14:58:22] bestIteration = 3999\n",
      "[14:58:23] ===== Start working with \u001b[1mfold 1\u001b[0m for \u001b[1mLvl_0_Pipe_1_Mod_0_CatBoost\u001b[0m =====\n",
      "[14:58:23] 0:\tlearn: 2.2634693\ttest: 2.2632523\tbest: 2.2632523 (0)\ttotal: 6.07ms\tremaining: 24.3s\n",
      "[14:58:43] bestTest = 0.2658199756\n",
      "[14:58:43] bestIteration = 3999\n",
      "[14:58:43] ===== Start working with \u001b[1mfold 2\u001b[0m for \u001b[1mLvl_0_Pipe_1_Mod_0_CatBoost\u001b[0m =====\n",
      "[14:58:44] 0:\tlearn: 2.2631659\ttest: 2.2656305\tbest: 2.2656305 (0)\ttotal: 6.52ms\tremaining: 26.1s\n",
      "[14:59:03] bestTest = 0.2753673959\n",
      "[14:59:03] bestIteration = 3999\n",
      "[14:59:04] ===== Start working with \u001b[1mfold 3\u001b[0m for \u001b[1mLvl_0_Pipe_1_Mod_0_CatBoost\u001b[0m =====\n",
      "[14:59:04] 0:\tlearn: 2.2645703\ttest: 2.2657044\tbest: 2.2657044 (0)\ttotal: 6.13ms\tremaining: 24.5s\n",
      "[14:59:24] bestTest = 0.2738942971\n",
      "[14:59:24] bestIteration = 3996\n",
      "[14:59:24] Shrink model to first 3997 iterations.\n",
      "[14:59:24] ===== Start working with \u001b[1mfold 4\u001b[0m for \u001b[1mLvl_0_Pipe_1_Mod_0_CatBoost\u001b[0m =====\n",
      "[14:59:25] 0:\tlearn: 2.2642798\ttest: 2.2644247\tbest: 2.2644247 (0)\ttotal: 5.95ms\tremaining: 23.8s\n",
      "[14:59:44] bestTest = 0.2538460547\n",
      "[14:59:44] bestIteration = 3999\n",
      "[14:59:45] Fitting \u001b[1mLvl_0_Pipe_1_Mod_0_CatBoost\u001b[0m finished. score = \u001b[1m-0.2625123265864018\u001b[0m\n",
      "[14:59:45] \u001b[1mLvl_0_Pipe_1_Mod_0_CatBoost\u001b[0m fitting and predicting completed\n",
      "[14:59:45] Time left 16678.32 secs\n",
      "\n",
      "[14:59:45] \u001b[1mLayer 1 training completed.\u001b[0m\n",
      "\n",
      "[14:59:45] Blending: optimization starts with equal weights and score \u001b[1m-0.2561708318332855\u001b[0m\n"
     ]
    },
    {
     "name": "stderr",
     "output_type": "stream",
     "text": [
      "/home/dvladimirvasilyev/anaconda3/envs/myenv/lib/python3.8/site-packages/sklearn/metrics/_classification.py:2916: UserWarning: The y_pred values do not sum to one. Starting from 1.5 thiswill result in an error.\n",
      "  warnings.warn(\n"
     ]
    },
    {
     "name": "stdout",
     "output_type": "stream",
     "text": [
      "[14:59:45] Blending: iteration \u001b[1m0\u001b[0m: score = \u001b[1m-0.23692344794948073\u001b[0m, weights = \u001b[1m[0.19089036 0.8091096 ]\u001b[0m\n",
      "[14:59:46] Blending: iteration \u001b[1m1\u001b[0m: score = \u001b[1m-0.23692344794948073\u001b[0m, weights = \u001b[1m[0.19089036 0.8091096 ]\u001b[0m\n",
      "[14:59:46] Blending: no score update. Terminated\n",
      "\n",
      "[14:59:46] \u001b[1mAutoml preset training completed in 1323.26 seconds\u001b[0m\n",
      "\n",
      "[14:59:46] Model description:\n",
      "Final prediction for new objects (level 0) = \n",
      "\t 0.19089 * (5 averaged models Lvl_0_Pipe_0_Mod_0_LinearL2) +\n",
      "\t 0.80911 * (5 averaged models Lvl_0_Pipe_1_Mod_0_CatBoost) \n",
      "\n",
      "CPU times: user 20min 56s, sys: 1min 25s, total: 22min 22s\n",
      "Wall time: 22min 3s\n"
     ]
    }
   ],
   "source": [
    "%%time \n",
    "\n",
    "oof_pred = automl.fit_predict(train_data, roles = roles, verbose = 3)"
   ]
  },
  {
   "cell_type": "code",
   "execution_count": 37,
   "metadata": {},
   "outputs": [
    {
     "name": "stderr",
     "output_type": "stream",
     "text": [
      "100%|██████████| 163/163 [01:16<00:00,  2.13it/s]\n"
     ]
    },
    {
     "name": "stdout",
     "output_type": "stream",
     "text": [
      "[15:01:03] Feature path transformed\n",
      "Prediction for te_data:\n",
      "array([[5.8534566e-02, 6.8576052e-03, 4.5334366e-01, ..., 1.5735241e-02,\n",
      "        4.2415738e-07, 2.8625556e-05],\n",
      "       [9.6386713e-01, 1.4697504e-03, 3.2047924e-02, ..., 2.0407902e-03,\n",
      "        6.7228694e-07, 1.4319470e-07],\n",
      "       [3.5120246e-01, 2.9431397e-01, 1.9644174e-01, ..., 2.2667376e-04,\n",
      "        6.4593733e-06, 5.9228983e-05],\n",
      "       ...,\n",
      "       [2.3565248e-03, 2.7670001e-05, 1.2790265e-02, ..., 9.7831573e-05,\n",
      "        4.5524594e-08, 1.1057142e-07],\n",
      "       [1.4637065e-03, 9.7479615e-06, 1.1323140e-02, ..., 4.7557736e-05,\n",
      "        4.5515264e-08, 6.8441139e-08],\n",
      "       [3.5254466e-03, 2.2519611e-05, 5.6939691e-02, ..., 2.6386546e-04,\n",
      "        4.5536019e-08, 1.7701051e-07]], dtype=float32)\n",
      "Shape = (20814, 10)\n",
      "CPU times: user 13 s, sys: 3.3 s, total: 16.3 s\n",
      "Wall time: 2min 7s\n"
     ]
    }
   ],
   "source": [
    "%%time\n",
    "\n",
    "te_pred = automl.predict(submission)\n",
    "print(f'Prediction for te_data:\\n{te_pred}\\nShape = {te_pred.shape}')"
   ]
  },
  {
   "cell_type": "markdown",
   "metadata": {},
   "source": [
    "Our submission has 0.95770 accuracy on [public](https://www.kaggle.com/competitions/paddy-disease-classification/leaderboard?tab=public#) and 0.95276 accuracy on [private](https://www.kaggle.com/competitions/paddy-disease-classification/leaderboard?) leaderboard ([Alexander Ryzhkov](https://www.kaggle.com/alexryzhkov) account).\n"
   ]
  },
  {
   "cell_type": "markdown",
   "metadata": {
    "papermill": {
     "duration": 0.14221,
     "end_time": "2021-06-22T20:35:48.782561",
     "exception": false,
     "start_time": "2021-06-22T20:35:48.640351",
     "status": "completed"
    },
    "tags": []
   },
   "source": [
    "## Additional materials"
   ]
  },
  {
   "cell_type": "markdown",
   "metadata": {
    "papermill": {
     "duration": 0.147943,
     "end_time": "2021-06-22T20:35:49.074531",
     "exception": false,
     "start_time": "2021-06-22T20:35:48.926588",
     "status": "completed"
    },
    "tags": []
   },
   "source": [
    "- [Official LightAutoML github repo](https://github.com/AILab-MLTools/LightAutoML)\n",
    "- [LightAutoML documentation](https://lightautoml.readthedocs.io/en/latest)\n",
    "- [LightAutoML tutorials](https://github.com/AILab-MLTools/LightAutoML/tree/master/examples/tutorials)\n",
    "- LightAutoML course:\n",
    "    - [Part 1 - general overview](https://ods.ai/tracks/automl-course-part1) \n",
    "    - [Part 2 - LightAutoML specific applications](https://ods.ai/tracks/automl-course-part2)\n",
    "    - [Part 3 - LightAutoML customization](https://ods.ai/tracks/automl-course-part3)\n",
    "- [OpenDataScience AutoML benchmark leaderboard](https://ods.ai/competitions/automl-benchmark/leaderboard)"
   ]
  }
 ],
 "metadata": {
  "kernelspec": {
   "display_name": "my_jup_kernel",
   "language": "python",
   "name": "my_jup_kernel"
  },
  "language_info": {
   "codemirror_mode": {
    "name": "ipython",
    "version": 3
   },
   "file_extension": ".py",
   "mimetype": "text/x-python",
   "name": "python",
   "nbconvert_exporter": "python",
   "pygments_lexer": "ipython3",
   "version": "3.6.9"
  },
  "vscode": {
   "interpreter": {
    "hash": "77738023c946bcedeeb6a5c983bcfb7849325694ebd87acbc9267f45e9f4af48"
   }
  }
 },
 "nbformat": 4,
 "nbformat_minor": 4
}
